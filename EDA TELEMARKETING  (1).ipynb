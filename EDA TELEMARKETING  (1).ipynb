{
 "cells": [
  {
   "cell_type": "code",
   "execution_count": 118,
   "id": "c7a595f2",
   "metadata": {},
   "outputs": [],
   "source": [
    "import pandas as pd\n",
    "import numpy as ny\n",
    "import matplotlib.pyplot as plt\n",
    "import seaborn as sns\n",
    "import datetime\n",
    "import time"
   ]
  },
  {
   "cell_type": "code",
   "execution_count": 119,
   "id": "e4cce9a7",
   "metadata": {},
   "outputs": [],
   "source": [
    "import warnings\n",
    "warnings.filterwarnings(\"ignore\")"
   ]
  },
  {
   "cell_type": "code",
   "execution_count": 120,
   "id": "b030c8b8",
   "metadata": {},
   "outputs": [
    {
     "name": "stdout",
     "output_type": "stream",
     "text": [
      "C:\\Users\\Jammy\\OneDrive\\Desktop\\Data analysis PDFs\\EDA Exploratory data analysis\\Assignments EDA\n"
     ]
    }
   ],
   "source": [
    "cd C:\\Users\\Jammy\\OneDrive\\Desktop\\Data analysis PDFs\\EDA Exploratory data analysis\\Assignments EDA"
   ]
  },
  {
   "cell_type": "code",
   "execution_count": 121,
   "id": "3b106b14",
   "metadata": {},
   "outputs": [],
   "source": [
    "dtf = pd.read_csv(\"EDA_Practice_Dataset_2_Telemarketingtopic_added1627027202s_p1515805800.csv\")"
   ]
  },
  {
   "cell_type": "code",
   "execution_count": 122,
   "id": "cb69046e",
   "metadata": {},
   "outputs": [
    {
     "data": {
      "text/html": [
       "<div>\n",
       "<style scoped>\n",
       "    .dataframe tbody tr th:only-of-type {\n",
       "        vertical-align: middle;\n",
       "    }\n",
       "\n",
       "    .dataframe tbody tr th {\n",
       "        vertical-align: top;\n",
       "    }\n",
       "\n",
       "    .dataframe thead th {\n",
       "        text-align: right;\n",
       "    }\n",
       "</style>\n",
       "<table border=\"1\" class=\"dataframe\">\n",
       "  <thead>\n",
       "    <tr style=\"text-align: right;\">\n",
       "      <th></th>\n",
       "      <th>Call_ID</th>\n",
       "      <th>Sale</th>\n",
       "      <th>Agent_ID</th>\n",
       "      <th>Age</th>\n",
       "      <th>Product_ID</th>\n",
       "      <th>Timezone</th>\n",
       "      <th>Phone_code</th>\n",
       "      <th>First_Name</th>\n",
       "      <th>Last_Name</th>\n",
       "      <th>Area_Code</th>\n",
       "      <th>Gender</th>\n",
       "      <th>Call_Count</th>\n",
       "    </tr>\n",
       "  </thead>\n",
       "  <tbody>\n",
       "    <tr>\n",
       "      <th>0</th>\n",
       "      <td>9545434</td>\n",
       "      <td>False</td>\n",
       "      <td>5265</td>\n",
       "      <td>42</td>\n",
       "      <td>147</td>\n",
       "      <td>2</td>\n",
       "      <td>37.0</td>\n",
       "      <td>Jk</td>\n",
       "      <td>Jk</td>\n",
       "      <td>2302</td>\n",
       "      <td>Male</td>\n",
       "      <td>1</td>\n",
       "    </tr>\n",
       "    <tr>\n",
       "      <th>1</th>\n",
       "      <td>9211206</td>\n",
       "      <td>False</td>\n",
       "      <td>5226</td>\n",
       "      <td>74</td>\n",
       "      <td>146</td>\n",
       "      <td>2</td>\n",
       "      <td>37.0</td>\n",
       "      <td>Em</td>\n",
       "      <td>Sh</td>\n",
       "      <td>1501</td>\n",
       "      <td>Male</td>\n",
       "      <td>10</td>\n",
       "    </tr>\n",
       "    <tr>\n",
       "      <th>2</th>\n",
       "      <td>8873010</td>\n",
       "      <td>False</td>\n",
       "      <td>4452</td>\n",
       "      <td>35</td>\n",
       "      <td>144</td>\n",
       "      <td>2</td>\n",
       "      <td>37.0</td>\n",
       "      <td>BI</td>\n",
       "      <td>MI</td>\n",
       "      <td>1550</td>\n",
       "      <td>Male</td>\n",
       "      <td>9</td>\n",
       "    </tr>\n",
       "    <tr>\n",
       "      <th>3</th>\n",
       "      <td>9852034</td>\n",
       "      <td>False</td>\n",
       "      <td>5461</td>\n",
       "      <td>40</td>\n",
       "      <td>149</td>\n",
       "      <td>2</td>\n",
       "      <td>37.0</td>\n",
       "      <td>WT</td>\n",
       "      <td>LI</td>\n",
       "      <td>1401</td>\n",
       "      <td>Male</td>\n",
       "      <td>6</td>\n",
       "    </tr>\n",
       "    <tr>\n",
       "      <th>4</th>\n",
       "      <td>9416548</td>\n",
       "      <td>False</td>\n",
       "      <td>5298</td>\n",
       "      <td>26</td>\n",
       "      <td>147</td>\n",
       "      <td>2</td>\n",
       "      <td>37.0</td>\n",
       "      <td>LA</td>\n",
       "      <td>LA</td>\n",
       "      <td>125</td>\n",
       "      <td>Female</td>\n",
       "      <td>12</td>\n",
       "    </tr>\n",
       "  </tbody>\n",
       "</table>\n",
       "</div>"
      ],
      "text/plain": [
       "   Call_ID   Sale Agent_ID  Age  Product_ID  Timezone  Phone_code First_Name  \\\n",
       "0  9545434  False     5265   42         147         2        37.0         Jk   \n",
       "1  9211206  False     5226   74         146         2        37.0         Em   \n",
       "2  8873010  False     4452   35         144         2        37.0         BI   \n",
       "3  9852034  False     5461   40         149         2        37.0         WT   \n",
       "4  9416548  False     5298   26         147         2        37.0         LA   \n",
       "\n",
       "  Last_Name Area_Code  Gender  Call_Count  \n",
       "0        Jk      2302    Male           1  \n",
       "1        Sh      1501    Male          10  \n",
       "2        MI      1550    Male           9  \n",
       "3        LI      1401    Male           6  \n",
       "4        LA       125  Female          12  "
      ]
     },
     "execution_count": 122,
     "metadata": {},
     "output_type": "execute_result"
    }
   ],
   "source": [
    "dtf.head()"
   ]
  },
  {
   "cell_type": "code",
   "execution_count": 123,
   "id": "2dc3e201",
   "metadata": {},
   "outputs": [
    {
     "data": {
      "text/plain": [
       "Call_ID          0\n",
       "Sale            32\n",
       "Agent_ID      2315\n",
       "Age              0\n",
       "Product_ID       0\n",
       "Timezone         0\n",
       "Phone_code      28\n",
       "First_Name     682\n",
       "Last_Name      681\n",
       "Area_Code      460\n",
       "Gender           0\n",
       "Call_Count       0\n",
       "dtype: int64"
      ]
     },
     "execution_count": 123,
     "metadata": {},
     "output_type": "execute_result"
    }
   ],
   "source": [
    "dtf.isnull().sum()"
   ]
  },
  {
   "cell_type": "code",
   "execution_count": null,
   "id": "328d043d",
   "metadata": {},
   "outputs": [],
   "source": [
    "#missing values in columns:\n",
    "#-> Sales\n",
    "#-> Agent_ID\n",
    "#-> Phone_Code\n",
    "#-> First_Name\n",
    "#-> Last_Name\n",
    "#-> Area_Code"
   ]
  },
  {
   "cell_type": "code",
   "execution_count": 124,
   "id": "2d0db6f8",
   "metadata": {},
   "outputs": [
    {
     "name": "stdout",
     "output_type": "stream",
     "text": [
      "<class 'pandas.core.frame.DataFrame'>\n",
      "RangeIndex: 100000 entries, 0 to 99999\n",
      "Data columns (total 12 columns):\n",
      " #   Column      Non-Null Count   Dtype  \n",
      "---  ------      --------------   -----  \n",
      " 0   Call_ID     100000 non-null  int64  \n",
      " 1   Sale        99968 non-null   object \n",
      " 2   Agent_ID    97685 non-null   object \n",
      " 3   Age         100000 non-null  int64  \n",
      " 4   Product_ID  100000 non-null  int64  \n",
      " 5   Timezone    100000 non-null  int64  \n",
      " 6   Phone_code  99972 non-null   float64\n",
      " 7   First_Name  99318 non-null   object \n",
      " 8   Last_Name   99319 non-null   object \n",
      " 9   Area_Code   99540 non-null   object \n",
      " 10  Gender      100000 non-null  object \n",
      " 11  Call_Count  100000 non-null  int64  \n",
      "dtypes: float64(1), int64(5), object(6)\n",
      "memory usage: 6.9+ MB\n"
     ]
    }
   ],
   "source": [
    "dtf.info()"
   ]
  },
  {
   "cell_type": "code",
   "execution_count": null,
   "id": "5dda20e5",
   "metadata": {},
   "outputs": [],
   "source": [
    "as you can see from info that there are 100000 data entries , and few of the columns do have non-null values "
   ]
  },
  {
   "cell_type": "code",
   "execution_count": 125,
   "id": "6286fad1",
   "metadata": {},
   "outputs": [
    {
     "data": {
      "text/html": [
       "<div>\n",
       "<style scoped>\n",
       "    .dataframe tbody tr th:only-of-type {\n",
       "        vertical-align: middle;\n",
       "    }\n",
       "\n",
       "    .dataframe tbody tr th {\n",
       "        vertical-align: top;\n",
       "    }\n",
       "\n",
       "    .dataframe thead th {\n",
       "        text-align: right;\n",
       "    }\n",
       "</style>\n",
       "<table border=\"1\" class=\"dataframe\">\n",
       "  <thead>\n",
       "    <tr style=\"text-align: right;\">\n",
       "      <th></th>\n",
       "      <th>Call_ID</th>\n",
       "      <th>Age</th>\n",
       "      <th>Product_ID</th>\n",
       "      <th>Timezone</th>\n",
       "      <th>Phone_code</th>\n",
       "      <th>Call_Count</th>\n",
       "    </tr>\n",
       "  </thead>\n",
       "  <tbody>\n",
       "    <tr>\n",
       "      <th>count</th>\n",
       "      <td>1.000000e+05</td>\n",
       "      <td>100000.000000</td>\n",
       "      <td>100000.000000</td>\n",
       "      <td>100000.000000</td>\n",
       "      <td>99972.0</td>\n",
       "      <td>100000.00000</td>\n",
       "    </tr>\n",
       "    <tr>\n",
       "      <th>mean</th>\n",
       "      <td>9.562981e+06</td>\n",
       "      <td>52.558530</td>\n",
       "      <td>147.216690</td>\n",
       "      <td>1.999420</td>\n",
       "      <td>37.0</td>\n",
       "      <td>3.26866</td>\n",
       "    </tr>\n",
       "    <tr>\n",
       "      <th>std</th>\n",
       "      <td>4.618927e+05</td>\n",
       "      <td>16.144553</td>\n",
       "      <td>2.182815</td>\n",
       "      <td>0.034054</td>\n",
       "      <td>0.0</td>\n",
       "      <td>2.96882</td>\n",
       "    </tr>\n",
       "    <tr>\n",
       "      <th>min</th>\n",
       "      <td>8.432514e+06</td>\n",
       "      <td>25.000000</td>\n",
       "      <td>142.000000</td>\n",
       "      <td>0.000000</td>\n",
       "      <td>37.0</td>\n",
       "      <td>1.00000</td>\n",
       "    </tr>\n",
       "    <tr>\n",
       "      <th>25%</th>\n",
       "      <td>9.230592e+06</td>\n",
       "      <td>39.000000</td>\n",
       "      <td>146.000000</td>\n",
       "      <td>2.000000</td>\n",
       "      <td>37.0</td>\n",
       "      <td>1.00000</td>\n",
       "    </tr>\n",
       "    <tr>\n",
       "      <th>50%</th>\n",
       "      <td>9.527831e+06</td>\n",
       "      <td>53.000000</td>\n",
       "      <td>147.000000</td>\n",
       "      <td>2.000000</td>\n",
       "      <td>37.0</td>\n",
       "      <td>2.00000</td>\n",
       "    </tr>\n",
       "    <tr>\n",
       "      <th>75%</th>\n",
       "      <td>9.919197e+06</td>\n",
       "      <td>66.000000</td>\n",
       "      <td>149.000000</td>\n",
       "      <td>2.000000</td>\n",
       "      <td>37.0</td>\n",
       "      <td>4.00000</td>\n",
       "    </tr>\n",
       "    <tr>\n",
       "      <th>max</th>\n",
       "      <td>1.047664e+07</td>\n",
       "      <td>80.000000</td>\n",
       "      <td>151.000000</td>\n",
       "      <td>2.000000</td>\n",
       "      <td>37.0</td>\n",
       "      <td>55.00000</td>\n",
       "    </tr>\n",
       "  </tbody>\n",
       "</table>\n",
       "</div>"
      ],
      "text/plain": [
       "            Call_ID            Age     Product_ID       Timezone  Phone_code  \\\n",
       "count  1.000000e+05  100000.000000  100000.000000  100000.000000     99972.0   \n",
       "mean   9.562981e+06      52.558530     147.216690       1.999420        37.0   \n",
       "std    4.618927e+05      16.144553       2.182815       0.034054         0.0   \n",
       "min    8.432514e+06      25.000000     142.000000       0.000000        37.0   \n",
       "25%    9.230592e+06      39.000000     146.000000       2.000000        37.0   \n",
       "50%    9.527831e+06      53.000000     147.000000       2.000000        37.0   \n",
       "75%    9.919197e+06      66.000000     149.000000       2.000000        37.0   \n",
       "max    1.047664e+07      80.000000     151.000000       2.000000        37.0   \n",
       "\n",
       "         Call_Count  \n",
       "count  100000.00000  \n",
       "mean        3.26866  \n",
       "std         2.96882  \n",
       "min         1.00000  \n",
       "25%         1.00000  \n",
       "50%         2.00000  \n",
       "75%         4.00000  \n",
       "max        55.00000  "
      ]
     },
     "execution_count": 125,
     "metadata": {},
     "output_type": "execute_result"
    }
   ],
   "source": [
    "dtf.describe()"
   ]
  },
  {
   "cell_type": "markdown",
   "id": "88476702",
   "metadata": {},
   "source": [
    "###### -x"
   ]
  },
  {
   "cell_type": "markdown",
   "id": "ef5f473e",
   "metadata": {},
   "source": [
    "# DATA CLEANING"
   ]
  },
  {
   "cell_type": "markdown",
   "id": "9a070f5f",
   "metadata": {},
   "source": [
    "#First lets count number of nulls in each column"
   ]
  },
  {
   "cell_type": "code",
   "execution_count": 126,
   "id": "934fb97e",
   "metadata": {},
   "outputs": [
    {
     "data": {
      "text/plain": [
       "Call_ID          0\n",
       "Sale            32\n",
       "Agent_ID      2315\n",
       "Age              0\n",
       "Product_ID       0\n",
       "Timezone         0\n",
       "Phone_code      28\n",
       "First_Name     682\n",
       "Last_Name      681\n",
       "Area_Code      460\n",
       "Gender           0\n",
       "Call_Count       0\n",
       "dtype: int64"
      ]
     },
     "execution_count": 126,
     "metadata": {},
     "output_type": "execute_result"
    }
   ],
   "source": [
    "dtf.isnull().sum()"
   ]
  },
  {
   "cell_type": "markdown",
   "id": "1d240cd0",
   "metadata": {},
   "source": [
    "#### COLUMN SALE"
   ]
  },
  {
   "cell_type": "code",
   "execution_count": 127,
   "id": "2832beaf",
   "metadata": {},
   "outputs": [
    {
     "data": {
      "text/plain": [
       "dtype('O')"
      ]
     },
     "execution_count": 127,
     "metadata": {},
     "output_type": "execute_result"
    }
   ],
   "source": [
    "dtf[\"Sale\"].dtypes #Sale is an Object"
   ]
  },
  {
   "cell_type": "code",
   "execution_count": 128,
   "id": "8dcc1cc1",
   "metadata": {},
   "outputs": [
    {
     "data": {
      "text/plain": [
       "0    False\n",
       "dtype: object"
      ]
     },
     "execution_count": 128,
     "metadata": {},
     "output_type": "execute_result"
    }
   ],
   "source": [
    "dtf[\"Sale\"].mode()"
   ]
  },
  {
   "cell_type": "code",
   "execution_count": 129,
   "id": "b3bc93d7",
   "metadata": {},
   "outputs": [
    {
     "data": {
      "text/html": [
       "<div>\n",
       "<style scoped>\n",
       "    .dataframe tbody tr th:only-of-type {\n",
       "        vertical-align: middle;\n",
       "    }\n",
       "\n",
       "    .dataframe tbody tr th {\n",
       "        vertical-align: top;\n",
       "    }\n",
       "\n",
       "    .dataframe thead th {\n",
       "        text-align: right;\n",
       "    }\n",
       "</style>\n",
       "<table border=\"1\" class=\"dataframe\">\n",
       "  <thead>\n",
       "    <tr style=\"text-align: right;\">\n",
       "      <th></th>\n",
       "      <th>Call_ID</th>\n",
       "      <th>Sale</th>\n",
       "      <th>Agent_ID</th>\n",
       "      <th>Age</th>\n",
       "      <th>Product_ID</th>\n",
       "      <th>Timezone</th>\n",
       "      <th>Phone_code</th>\n",
       "      <th>First_Name</th>\n",
       "      <th>Last_Name</th>\n",
       "      <th>Area_Code</th>\n",
       "      <th>Gender</th>\n",
       "      <th>Call_Count</th>\n",
       "    </tr>\n",
       "  </thead>\n",
       "  <tbody>\n",
       "    <tr>\n",
       "      <th>0</th>\n",
       "      <td>9545434</td>\n",
       "      <td>False</td>\n",
       "      <td>5265</td>\n",
       "      <td>42</td>\n",
       "      <td>147</td>\n",
       "      <td>2</td>\n",
       "      <td>37.0</td>\n",
       "      <td>Jk</td>\n",
       "      <td>Jk</td>\n",
       "      <td>2302</td>\n",
       "      <td>Male</td>\n",
       "      <td>1</td>\n",
       "    </tr>\n",
       "    <tr>\n",
       "      <th>1</th>\n",
       "      <td>9211206</td>\n",
       "      <td>False</td>\n",
       "      <td>5226</td>\n",
       "      <td>74</td>\n",
       "      <td>146</td>\n",
       "      <td>2</td>\n",
       "      <td>37.0</td>\n",
       "      <td>Em</td>\n",
       "      <td>Sh</td>\n",
       "      <td>1501</td>\n",
       "      <td>Male</td>\n",
       "      <td>10</td>\n",
       "    </tr>\n",
       "    <tr>\n",
       "      <th>2</th>\n",
       "      <td>8873010</td>\n",
       "      <td>False</td>\n",
       "      <td>4452</td>\n",
       "      <td>35</td>\n",
       "      <td>144</td>\n",
       "      <td>2</td>\n",
       "      <td>37.0</td>\n",
       "      <td>BI</td>\n",
       "      <td>MI</td>\n",
       "      <td>1550</td>\n",
       "      <td>Male</td>\n",
       "      <td>9</td>\n",
       "    </tr>\n",
       "    <tr>\n",
       "      <th>3</th>\n",
       "      <td>9852034</td>\n",
       "      <td>False</td>\n",
       "      <td>5461</td>\n",
       "      <td>40</td>\n",
       "      <td>149</td>\n",
       "      <td>2</td>\n",
       "      <td>37.0</td>\n",
       "      <td>WT</td>\n",
       "      <td>LI</td>\n",
       "      <td>1401</td>\n",
       "      <td>Male</td>\n",
       "      <td>6</td>\n",
       "    </tr>\n",
       "    <tr>\n",
       "      <th>4</th>\n",
       "      <td>9416548</td>\n",
       "      <td>False</td>\n",
       "      <td>5298</td>\n",
       "      <td>26</td>\n",
       "      <td>147</td>\n",
       "      <td>2</td>\n",
       "      <td>37.0</td>\n",
       "      <td>LA</td>\n",
       "      <td>LA</td>\n",
       "      <td>125</td>\n",
       "      <td>Female</td>\n",
       "      <td>12</td>\n",
       "    </tr>\n",
       "    <tr>\n",
       "      <th>...</th>\n",
       "      <td>...</td>\n",
       "      <td>...</td>\n",
       "      <td>...</td>\n",
       "      <td>...</td>\n",
       "      <td>...</td>\n",
       "      <td>...</td>\n",
       "      <td>...</td>\n",
       "      <td>...</td>\n",
       "      <td>...</td>\n",
       "      <td>...</td>\n",
       "      <td>...</td>\n",
       "      <td>...</td>\n",
       "    </tr>\n",
       "    <tr>\n",
       "      <th>99995</th>\n",
       "      <td>10249682</td>\n",
       "      <td>False</td>\n",
       "      <td>5404</td>\n",
       "      <td>65</td>\n",
       "      <td>150</td>\n",
       "      <td>2</td>\n",
       "      <td>37.0</td>\n",
       "      <td>Iy</td>\n",
       "      <td>Rn</td>\n",
       "      <td>4068</td>\n",
       "      <td>Female</td>\n",
       "      <td>1</td>\n",
       "    </tr>\n",
       "    <tr>\n",
       "      <th>99996</th>\n",
       "      <td>8955506</td>\n",
       "      <td>False</td>\n",
       "      <td>5181</td>\n",
       "      <td>37</td>\n",
       "      <td>144</td>\n",
       "      <td>2</td>\n",
       "      <td>37.0</td>\n",
       "      <td>ZA</td>\n",
       "      <td>OE</td>\n",
       "      <td>4450</td>\n",
       "      <td>Female</td>\n",
       "      <td>6</td>\n",
       "    </tr>\n",
       "    <tr>\n",
       "      <th>99997</th>\n",
       "      <td>9299394</td>\n",
       "      <td>False</td>\n",
       "      <td>5077</td>\n",
       "      <td>69</td>\n",
       "      <td>146</td>\n",
       "      <td>2</td>\n",
       "      <td>37.0</td>\n",
       "      <td>Wm</td>\n",
       "      <td>Vr</td>\n",
       "      <td>1759</td>\n",
       "      <td>Male</td>\n",
       "      <td>1</td>\n",
       "    </tr>\n",
       "    <tr>\n",
       "      <th>99998</th>\n",
       "      <td>9549720</td>\n",
       "      <td>False</td>\n",
       "      <td>5028</td>\n",
       "      <td>67</td>\n",
       "      <td>147</td>\n",
       "      <td>2</td>\n",
       "      <td>37.0</td>\n",
       "      <td>Ze</td>\n",
       "      <td>Ze</td>\n",
       "      <td>1475</td>\n",
       "      <td>Male</td>\n",
       "      <td>1</td>\n",
       "    </tr>\n",
       "    <tr>\n",
       "      <th>99999</th>\n",
       "      <td>9702206</td>\n",
       "      <td>False</td>\n",
       "      <td>5464</td>\n",
       "      <td>63</td>\n",
       "      <td>148</td>\n",
       "      <td>2</td>\n",
       "      <td>37.0</td>\n",
       "      <td>EH</td>\n",
       "      <td>MA</td>\n",
       "      <td>1864</td>\n",
       "      <td>Female</td>\n",
       "      <td>15</td>\n",
       "    </tr>\n",
       "  </tbody>\n",
       "</table>\n",
       "<p>100000 rows × 12 columns</p>\n",
       "</div>"
      ],
      "text/plain": [
       "        Call_ID   Sale Agent_ID  Age  Product_ID  Timezone  Phone_code  \\\n",
       "0       9545434  False     5265   42         147         2        37.0   \n",
       "1       9211206  False     5226   74         146         2        37.0   \n",
       "2       8873010  False     4452   35         144         2        37.0   \n",
       "3       9852034  False     5461   40         149         2        37.0   \n",
       "4       9416548  False     5298   26         147         2        37.0   \n",
       "...         ...    ...      ...  ...         ...       ...         ...   \n",
       "99995  10249682  False     5404   65         150         2        37.0   \n",
       "99996   8955506  False     5181   37         144         2        37.0   \n",
       "99997   9299394  False     5077   69         146         2        37.0   \n",
       "99998   9549720  False     5028   67         147         2        37.0   \n",
       "99999   9702206  False     5464   63         148         2        37.0   \n",
       "\n",
       "      First_Name Last_Name Area_Code  Gender  Call_Count  \n",
       "0             Jk        Jk      2302    Male           1  \n",
       "1             Em        Sh      1501    Male          10  \n",
       "2             BI        MI      1550    Male           9  \n",
       "3             WT        LI      1401    Male           6  \n",
       "4             LA        LA       125  Female          12  \n",
       "...          ...       ...       ...     ...         ...  \n",
       "99995         Iy        Rn      4068  Female           1  \n",
       "99996         ZA        OE      4450  Female           6  \n",
       "99997         Wm        Vr      1759    Male           1  \n",
       "99998         Ze        Ze      1475    Male           1  \n",
       "99999         EH        MA      1864  Female          15  \n",
       "\n",
       "[100000 rows x 12 columns]"
      ]
     },
     "execution_count": 129,
     "metadata": {},
     "output_type": "execute_result"
    }
   ],
   "source": [
    "dtf[\"Sale\"] = dtf[\"Sale\"].fillna(dtf[\"Sale\"].mode()[0])\n",
    "dtf"
   ]
  },
  {
   "cell_type": "code",
   "execution_count": 130,
   "id": "3a570f91",
   "metadata": {},
   "outputs": [
    {
     "data": {
      "text/plain": [
       "0"
      ]
     },
     "execution_count": 130,
     "metadata": {},
     "output_type": "execute_result"
    }
   ],
   "source": [
    "dtf[\"Sale\"].isnull().sum()"
   ]
  },
  {
   "cell_type": "code",
   "execution_count": 131,
   "id": "d57107ce",
   "metadata": {},
   "outputs": [
    {
     "data": {
      "text/plain": [
       "Call_ID          0\n",
       "Sale             0\n",
       "Agent_ID      2315\n",
       "Age              0\n",
       "Product_ID       0\n",
       "Timezone         0\n",
       "Phone_code      28\n",
       "First_Name     682\n",
       "Last_Name      681\n",
       "Area_Code      460\n",
       "Gender           0\n",
       "Call_Count       0\n",
       "dtype: int64"
      ]
     },
     "execution_count": 131,
     "metadata": {},
     "output_type": "execute_result"
    }
   ],
   "source": [
    "dtf.isnull().sum()"
   ]
  },
  {
   "cell_type": "markdown",
   "id": "c3bd7706",
   "metadata": {},
   "source": [
    "#All the values have been replaced by the Sale column's mode which is value False, Here you can see after the operation there are no null values in sales"
   ]
  },
  {
   "cell_type": "markdown",
   "id": "b2cf8300",
   "metadata": {},
   "source": [
    "###### -x"
   ]
  },
  {
   "cell_type": "markdown",
   "id": "36deab99",
   "metadata": {},
   "source": [
    "#### COLUMN AGENT_ID"
   ]
  },
  {
   "cell_type": "markdown",
   "id": "733a1b22",
   "metadata": {},
   "source": [
    "#Here in Agent_ID column we cannot replace it with Mode,mean or median, So we will create a tag \"Not Known\" to replace null values"
   ]
  },
  {
   "cell_type": "code",
   "execution_count": 132,
   "id": "06b6f574",
   "metadata": {},
   "outputs": [
    {
     "data": {
      "text/plain": [
       "2315"
      ]
     },
     "execution_count": 132,
     "metadata": {},
     "output_type": "execute_result"
    }
   ],
   "source": [
    "dtf[\"Agent_ID\"].isnull().sum()"
   ]
  },
  {
   "cell_type": "code",
   "execution_count": 133,
   "id": "e18131f2",
   "metadata": {},
   "outputs": [
    {
     "data": {
      "text/plain": [
       "dtype('O')"
      ]
     },
     "execution_count": 133,
     "metadata": {},
     "output_type": "execute_result"
    }
   ],
   "source": [
    "dtf[\"Agent_ID\"].dtype"
   ]
  },
  {
   "cell_type": "code",
   "execution_count": 134,
   "id": "d39b14ef",
   "metadata": {},
   "outputs": [
    {
     "data": {
      "text/html": [
       "<div>\n",
       "<style scoped>\n",
       "    .dataframe tbody tr th:only-of-type {\n",
       "        vertical-align: middle;\n",
       "    }\n",
       "\n",
       "    .dataframe tbody tr th {\n",
       "        vertical-align: top;\n",
       "    }\n",
       "\n",
       "    .dataframe thead th {\n",
       "        text-align: right;\n",
       "    }\n",
       "</style>\n",
       "<table border=\"1\" class=\"dataframe\">\n",
       "  <thead>\n",
       "    <tr style=\"text-align: right;\">\n",
       "      <th></th>\n",
       "      <th>Call_ID</th>\n",
       "      <th>Sale</th>\n",
       "      <th>Agent_ID</th>\n",
       "      <th>Age</th>\n",
       "      <th>Product_ID</th>\n",
       "      <th>Timezone</th>\n",
       "      <th>Phone_code</th>\n",
       "      <th>First_Name</th>\n",
       "      <th>Last_Name</th>\n",
       "      <th>Area_Code</th>\n",
       "      <th>Gender</th>\n",
       "      <th>Call_Count</th>\n",
       "    </tr>\n",
       "  </thead>\n",
       "  <tbody>\n",
       "    <tr>\n",
       "      <th>0</th>\n",
       "      <td>9545434</td>\n",
       "      <td>False</td>\n",
       "      <td>5265</td>\n",
       "      <td>42</td>\n",
       "      <td>147</td>\n",
       "      <td>2</td>\n",
       "      <td>37.0</td>\n",
       "      <td>Jk</td>\n",
       "      <td>Jk</td>\n",
       "      <td>2302</td>\n",
       "      <td>Male</td>\n",
       "      <td>1</td>\n",
       "    </tr>\n",
       "    <tr>\n",
       "      <th>1</th>\n",
       "      <td>9211206</td>\n",
       "      <td>False</td>\n",
       "      <td>5226</td>\n",
       "      <td>74</td>\n",
       "      <td>146</td>\n",
       "      <td>2</td>\n",
       "      <td>37.0</td>\n",
       "      <td>Em</td>\n",
       "      <td>Sh</td>\n",
       "      <td>1501</td>\n",
       "      <td>Male</td>\n",
       "      <td>10</td>\n",
       "    </tr>\n",
       "    <tr>\n",
       "      <th>2</th>\n",
       "      <td>8873010</td>\n",
       "      <td>False</td>\n",
       "      <td>4452</td>\n",
       "      <td>35</td>\n",
       "      <td>144</td>\n",
       "      <td>2</td>\n",
       "      <td>37.0</td>\n",
       "      <td>BI</td>\n",
       "      <td>MI</td>\n",
       "      <td>1550</td>\n",
       "      <td>Male</td>\n",
       "      <td>9</td>\n",
       "    </tr>\n",
       "    <tr>\n",
       "      <th>3</th>\n",
       "      <td>9852034</td>\n",
       "      <td>False</td>\n",
       "      <td>5461</td>\n",
       "      <td>40</td>\n",
       "      <td>149</td>\n",
       "      <td>2</td>\n",
       "      <td>37.0</td>\n",
       "      <td>WT</td>\n",
       "      <td>LI</td>\n",
       "      <td>1401</td>\n",
       "      <td>Male</td>\n",
       "      <td>6</td>\n",
       "    </tr>\n",
       "    <tr>\n",
       "      <th>4</th>\n",
       "      <td>9416548</td>\n",
       "      <td>False</td>\n",
       "      <td>5298</td>\n",
       "      <td>26</td>\n",
       "      <td>147</td>\n",
       "      <td>2</td>\n",
       "      <td>37.0</td>\n",
       "      <td>LA</td>\n",
       "      <td>LA</td>\n",
       "      <td>125</td>\n",
       "      <td>Female</td>\n",
       "      <td>12</td>\n",
       "    </tr>\n",
       "    <tr>\n",
       "      <th>...</th>\n",
       "      <td>...</td>\n",
       "      <td>...</td>\n",
       "      <td>...</td>\n",
       "      <td>...</td>\n",
       "      <td>...</td>\n",
       "      <td>...</td>\n",
       "      <td>...</td>\n",
       "      <td>...</td>\n",
       "      <td>...</td>\n",
       "      <td>...</td>\n",
       "      <td>...</td>\n",
       "      <td>...</td>\n",
       "    </tr>\n",
       "    <tr>\n",
       "      <th>99995</th>\n",
       "      <td>10249682</td>\n",
       "      <td>False</td>\n",
       "      <td>5404</td>\n",
       "      <td>65</td>\n",
       "      <td>150</td>\n",
       "      <td>2</td>\n",
       "      <td>37.0</td>\n",
       "      <td>Iy</td>\n",
       "      <td>Rn</td>\n",
       "      <td>4068</td>\n",
       "      <td>Female</td>\n",
       "      <td>1</td>\n",
       "    </tr>\n",
       "    <tr>\n",
       "      <th>99996</th>\n",
       "      <td>8955506</td>\n",
       "      <td>False</td>\n",
       "      <td>5181</td>\n",
       "      <td>37</td>\n",
       "      <td>144</td>\n",
       "      <td>2</td>\n",
       "      <td>37.0</td>\n",
       "      <td>ZA</td>\n",
       "      <td>OE</td>\n",
       "      <td>4450</td>\n",
       "      <td>Female</td>\n",
       "      <td>6</td>\n",
       "    </tr>\n",
       "    <tr>\n",
       "      <th>99997</th>\n",
       "      <td>9299394</td>\n",
       "      <td>False</td>\n",
       "      <td>5077</td>\n",
       "      <td>69</td>\n",
       "      <td>146</td>\n",
       "      <td>2</td>\n",
       "      <td>37.0</td>\n",
       "      <td>Wm</td>\n",
       "      <td>Vr</td>\n",
       "      <td>1759</td>\n",
       "      <td>Male</td>\n",
       "      <td>1</td>\n",
       "    </tr>\n",
       "    <tr>\n",
       "      <th>99998</th>\n",
       "      <td>9549720</td>\n",
       "      <td>False</td>\n",
       "      <td>5028</td>\n",
       "      <td>67</td>\n",
       "      <td>147</td>\n",
       "      <td>2</td>\n",
       "      <td>37.0</td>\n",
       "      <td>Ze</td>\n",
       "      <td>Ze</td>\n",
       "      <td>1475</td>\n",
       "      <td>Male</td>\n",
       "      <td>1</td>\n",
       "    </tr>\n",
       "    <tr>\n",
       "      <th>99999</th>\n",
       "      <td>9702206</td>\n",
       "      <td>False</td>\n",
       "      <td>5464</td>\n",
       "      <td>63</td>\n",
       "      <td>148</td>\n",
       "      <td>2</td>\n",
       "      <td>37.0</td>\n",
       "      <td>EH</td>\n",
       "      <td>MA</td>\n",
       "      <td>1864</td>\n",
       "      <td>Female</td>\n",
       "      <td>15</td>\n",
       "    </tr>\n",
       "  </tbody>\n",
       "</table>\n",
       "<p>100000 rows × 12 columns</p>\n",
       "</div>"
      ],
      "text/plain": [
       "        Call_ID   Sale Agent_ID  Age  Product_ID  Timezone  Phone_code  \\\n",
       "0       9545434  False     5265   42         147         2        37.0   \n",
       "1       9211206  False     5226   74         146         2        37.0   \n",
       "2       8873010  False     4452   35         144         2        37.0   \n",
       "3       9852034  False     5461   40         149         2        37.0   \n",
       "4       9416548  False     5298   26         147         2        37.0   \n",
       "...         ...    ...      ...  ...         ...       ...         ...   \n",
       "99995  10249682  False     5404   65         150         2        37.0   \n",
       "99996   8955506  False     5181   37         144         2        37.0   \n",
       "99997   9299394  False     5077   69         146         2        37.0   \n",
       "99998   9549720  False     5028   67         147         2        37.0   \n",
       "99999   9702206  False     5464   63         148         2        37.0   \n",
       "\n",
       "      First_Name Last_Name Area_Code  Gender  Call_Count  \n",
       "0             Jk        Jk      2302    Male           1  \n",
       "1             Em        Sh      1501    Male          10  \n",
       "2             BI        MI      1550    Male           9  \n",
       "3             WT        LI      1401    Male           6  \n",
       "4             LA        LA       125  Female          12  \n",
       "...          ...       ...       ...     ...         ...  \n",
       "99995         Iy        Rn      4068  Female           1  \n",
       "99996         ZA        OE      4450  Female           6  \n",
       "99997         Wm        Vr      1759    Male           1  \n",
       "99998         Ze        Ze      1475    Male           1  \n",
       "99999         EH        MA      1864  Female          15  \n",
       "\n",
       "[100000 rows x 12 columns]"
      ]
     },
     "execution_count": 134,
     "metadata": {},
     "output_type": "execute_result"
    }
   ],
   "source": [
    "dtf[\"Agent_ID\"].fillna(\"Not Known\",inplace = True) #inplace will save this value in the dataset ,if not done it will still show you have null values\n",
    "dtf"
   ]
  },
  {
   "cell_type": "code",
   "execution_count": 135,
   "id": "3e1c1d1b",
   "metadata": {},
   "outputs": [
    {
     "data": {
      "text/plain": [
       "0"
      ]
     },
     "execution_count": 135,
     "metadata": {},
     "output_type": "execute_result"
    }
   ],
   "source": [
    "dtf[\"Agent_ID\"].isnull().sum()"
   ]
  },
  {
   "cell_type": "code",
   "execution_count": 136,
   "id": "d906e702",
   "metadata": {},
   "outputs": [
    {
     "data": {
      "text/plain": [
       "Call_ID         0\n",
       "Sale            0\n",
       "Agent_ID        0\n",
       "Age             0\n",
       "Product_ID      0\n",
       "Timezone        0\n",
       "Phone_code     28\n",
       "First_Name    682\n",
       "Last_Name     681\n",
       "Area_Code     460\n",
       "Gender          0\n",
       "Call_Count      0\n",
       "dtype: int64"
      ]
     },
     "execution_count": 136,
     "metadata": {},
     "output_type": "execute_result"
    }
   ],
   "source": [
    "dtf.isnull().sum()"
   ]
  },
  {
   "cell_type": "markdown",
   "id": "34cb529a",
   "metadata": {},
   "source": [
    "#All the null values have been taken care of in the column Agent_ID"
   ]
  },
  {
   "cell_type": "markdown",
   "id": "fe65c020",
   "metadata": {},
   "source": [
    "###### -x"
   ]
  },
  {
   "cell_type": "markdown",
   "id": "bdbaa274",
   "metadata": {},
   "source": [
    "#### COLUMN PHONE_CODE"
   ]
  },
  {
   "cell_type": "code",
   "execution_count": 191,
   "id": "4e673ee6",
   "metadata": {},
   "outputs": [
    {
     "data": {
      "text/plain": [
       "0"
      ]
     },
     "execution_count": 191,
     "metadata": {},
     "output_type": "execute_result"
    }
   ],
   "source": [
    "dtf[\"Phone_code\"].isnull().sum()"
   ]
  },
  {
   "cell_type": "code",
   "execution_count": 190,
   "id": "301078c9",
   "metadata": {},
   "outputs": [
    {
     "data": {
      "text/plain": [
       "dtype('float64')"
      ]
     },
     "execution_count": 190,
     "metadata": {},
     "output_type": "execute_result"
    }
   ],
   "source": [
    "dtf[\"Phone_code\"].dtype"
   ]
  },
  {
   "cell_type": "code",
   "execution_count": 200,
   "id": "cb7dda39",
   "metadata": {},
   "outputs": [
    {
     "data": {
      "text/html": [
       "<div>\n",
       "<style scoped>\n",
       "    .dataframe tbody tr th:only-of-type {\n",
       "        vertical-align: middle;\n",
       "    }\n",
       "\n",
       "    .dataframe tbody tr th {\n",
       "        vertical-align: top;\n",
       "    }\n",
       "\n",
       "    .dataframe thead th {\n",
       "        text-align: right;\n",
       "    }\n",
       "</style>\n",
       "<table border=\"1\" class=\"dataframe\">\n",
       "  <thead>\n",
       "    <tr style=\"text-align: right;\">\n",
       "      <th></th>\n",
       "      <th>Call_ID</th>\n",
       "      <th>Sale</th>\n",
       "      <th>Agent_ID</th>\n",
       "      <th>Age</th>\n",
       "      <th>Product_ID</th>\n",
       "      <th>Timezone</th>\n",
       "      <th>Phone_code</th>\n",
       "      <th>First_Name</th>\n",
       "      <th>Last_Name</th>\n",
       "      <th>Area_Code</th>\n",
       "      <th>Gender</th>\n",
       "      <th>Call_Count</th>\n",
       "    </tr>\n",
       "  </thead>\n",
       "  <tbody>\n",
       "    <tr>\n",
       "      <th>0</th>\n",
       "      <td>9545434</td>\n",
       "      <td>False</td>\n",
       "      <td>5265</td>\n",
       "      <td>42</td>\n",
       "      <td>147</td>\n",
       "      <td>2</td>\n",
       "      <td>37.0</td>\n",
       "      <td>Jk</td>\n",
       "      <td>Jk</td>\n",
       "      <td>2302</td>\n",
       "      <td>Male</td>\n",
       "      <td>1</td>\n",
       "    </tr>\n",
       "    <tr>\n",
       "      <th>1</th>\n",
       "      <td>9211206</td>\n",
       "      <td>False</td>\n",
       "      <td>5226</td>\n",
       "      <td>74</td>\n",
       "      <td>146</td>\n",
       "      <td>2</td>\n",
       "      <td>37.0</td>\n",
       "      <td>Em</td>\n",
       "      <td>Sh</td>\n",
       "      <td>1501</td>\n",
       "      <td>Male</td>\n",
       "      <td>10</td>\n",
       "    </tr>\n",
       "    <tr>\n",
       "      <th>2</th>\n",
       "      <td>8873010</td>\n",
       "      <td>False</td>\n",
       "      <td>4452</td>\n",
       "      <td>35</td>\n",
       "      <td>144</td>\n",
       "      <td>2</td>\n",
       "      <td>37.0</td>\n",
       "      <td>BI</td>\n",
       "      <td>MI</td>\n",
       "      <td>1550</td>\n",
       "      <td>Male</td>\n",
       "      <td>9</td>\n",
       "    </tr>\n",
       "    <tr>\n",
       "      <th>3</th>\n",
       "      <td>9852034</td>\n",
       "      <td>False</td>\n",
       "      <td>5461</td>\n",
       "      <td>40</td>\n",
       "      <td>149</td>\n",
       "      <td>2</td>\n",
       "      <td>37.0</td>\n",
       "      <td>WT</td>\n",
       "      <td>LI</td>\n",
       "      <td>1401</td>\n",
       "      <td>Male</td>\n",
       "      <td>6</td>\n",
       "    </tr>\n",
       "    <tr>\n",
       "      <th>4</th>\n",
       "      <td>9416548</td>\n",
       "      <td>False</td>\n",
       "      <td>5298</td>\n",
       "      <td>26</td>\n",
       "      <td>147</td>\n",
       "      <td>2</td>\n",
       "      <td>37.0</td>\n",
       "      <td>LA</td>\n",
       "      <td>LA</td>\n",
       "      <td>125</td>\n",
       "      <td>Female</td>\n",
       "      <td>12</td>\n",
       "    </tr>\n",
       "    <tr>\n",
       "      <th>...</th>\n",
       "      <td>...</td>\n",
       "      <td>...</td>\n",
       "      <td>...</td>\n",
       "      <td>...</td>\n",
       "      <td>...</td>\n",
       "      <td>...</td>\n",
       "      <td>...</td>\n",
       "      <td>...</td>\n",
       "      <td>...</td>\n",
       "      <td>...</td>\n",
       "      <td>...</td>\n",
       "      <td>...</td>\n",
       "    </tr>\n",
       "    <tr>\n",
       "      <th>99995</th>\n",
       "      <td>10249682</td>\n",
       "      <td>False</td>\n",
       "      <td>5404</td>\n",
       "      <td>65</td>\n",
       "      <td>150</td>\n",
       "      <td>2</td>\n",
       "      <td>37.0</td>\n",
       "      <td>Iy</td>\n",
       "      <td>Rn</td>\n",
       "      <td>4068</td>\n",
       "      <td>Female</td>\n",
       "      <td>1</td>\n",
       "    </tr>\n",
       "    <tr>\n",
       "      <th>99996</th>\n",
       "      <td>8955506</td>\n",
       "      <td>False</td>\n",
       "      <td>5181</td>\n",
       "      <td>37</td>\n",
       "      <td>144</td>\n",
       "      <td>2</td>\n",
       "      <td>37.0</td>\n",
       "      <td>ZA</td>\n",
       "      <td>OE</td>\n",
       "      <td>4450</td>\n",
       "      <td>Female</td>\n",
       "      <td>6</td>\n",
       "    </tr>\n",
       "    <tr>\n",
       "      <th>99997</th>\n",
       "      <td>9299394</td>\n",
       "      <td>False</td>\n",
       "      <td>5077</td>\n",
       "      <td>69</td>\n",
       "      <td>146</td>\n",
       "      <td>2</td>\n",
       "      <td>37.0</td>\n",
       "      <td>Wm</td>\n",
       "      <td>Vr</td>\n",
       "      <td>1759</td>\n",
       "      <td>Male</td>\n",
       "      <td>1</td>\n",
       "    </tr>\n",
       "    <tr>\n",
       "      <th>99998</th>\n",
       "      <td>9549720</td>\n",
       "      <td>False</td>\n",
       "      <td>5028</td>\n",
       "      <td>67</td>\n",
       "      <td>147</td>\n",
       "      <td>2</td>\n",
       "      <td>37.0</td>\n",
       "      <td>Ze</td>\n",
       "      <td>Ze</td>\n",
       "      <td>1475</td>\n",
       "      <td>Male</td>\n",
       "      <td>1</td>\n",
       "    </tr>\n",
       "    <tr>\n",
       "      <th>99999</th>\n",
       "      <td>9702206</td>\n",
       "      <td>False</td>\n",
       "      <td>5464</td>\n",
       "      <td>63</td>\n",
       "      <td>148</td>\n",
       "      <td>2</td>\n",
       "      <td>37.0</td>\n",
       "      <td>EH</td>\n",
       "      <td>MA</td>\n",
       "      <td>1864</td>\n",
       "      <td>Female</td>\n",
       "      <td>15</td>\n",
       "    </tr>\n",
       "  </tbody>\n",
       "</table>\n",
       "<p>100000 rows × 12 columns</p>\n",
       "</div>"
      ],
      "text/plain": [
       "        Call_ID   Sale Agent_ID  Age  Product_ID  Timezone  Phone_code  \\\n",
       "0       9545434  False     5265   42         147         2        37.0   \n",
       "1       9211206  False     5226   74         146         2        37.0   \n",
       "2       8873010  False     4452   35         144         2        37.0   \n",
       "3       9852034  False     5461   40         149         2        37.0   \n",
       "4       9416548  False     5298   26         147         2        37.0   \n",
       "...         ...    ...      ...  ...         ...       ...         ...   \n",
       "99995  10249682  False     5404   65         150         2        37.0   \n",
       "99996   8955506  False     5181   37         144         2        37.0   \n",
       "99997   9299394  False     5077   69         146         2        37.0   \n",
       "99998   9549720  False     5028   67         147         2        37.0   \n",
       "99999   9702206  False     5464   63         148         2        37.0   \n",
       "\n",
       "      First_Name Last_Name Area_Code  Gender  Call_Count  \n",
       "0             Jk        Jk      2302    Male           1  \n",
       "1             Em        Sh      1501    Male          10  \n",
       "2             BI        MI      1550    Male           9  \n",
       "3             WT        LI      1401    Male           6  \n",
       "4             LA        LA       125  Female          12  \n",
       "...          ...       ...       ...     ...         ...  \n",
       "99995         Iy        Rn      4068  Female           1  \n",
       "99996         ZA        OE      4450  Female           6  \n",
       "99997         Wm        Vr      1759    Male           1  \n",
       "99998         Ze        Ze      1475    Male           1  \n",
       "99999         EH        MA      1864  Female          15  \n",
       "\n",
       "[100000 rows x 12 columns]"
      ]
     },
     "execution_count": 200,
     "metadata": {},
     "output_type": "execute_result"
    }
   ],
   "source": [
    "dtf[\"Phone_code\"].fillna(dtf[\"Phone_code\"].mode()[0],inplace = True)\n",
    "dtf"
   ]
  },
  {
   "cell_type": "code",
   "execution_count": 201,
   "id": "52890c7d",
   "metadata": {},
   "outputs": [
    {
     "data": {
      "text/plain": [
       "0"
      ]
     },
     "execution_count": 201,
     "metadata": {},
     "output_type": "execute_result"
    }
   ],
   "source": [
    "dtf[\"Phone_code\"].isnull().sum()"
   ]
  },
  {
   "cell_type": "code",
   "execution_count": 202,
   "id": "b78818c5",
   "metadata": {},
   "outputs": [
    {
     "data": {
      "text/plain": [
       "Call_ID       0\n",
       "Sale          0\n",
       "Agent_ID      0\n",
       "Age           0\n",
       "Product_ID    0\n",
       "Timezone      0\n",
       "Phone_code    0\n",
       "First_Name    0\n",
       "Last_Name     0\n",
       "Area_Code     0\n",
       "Gender        0\n",
       "Call_Count    0\n",
       "dtype: int64"
      ]
     },
     "execution_count": 202,
     "metadata": {},
     "output_type": "execute_result"
    }
   ],
   "source": [
    "dtf.isnull().sum()"
   ]
  },
  {
   "cell_type": "markdown",
   "id": "fba13643",
   "metadata": {},
   "source": [
    "#Above i have used forward fill as all the phone codes were same as the previous one's and null have been replace with it"
   ]
  },
  {
   "cell_type": "markdown",
   "id": "f6a52bf2",
   "metadata": {},
   "source": [
    "###### -x"
   ]
  },
  {
   "cell_type": "markdown",
   "id": "ede5db7f",
   "metadata": {},
   "source": [
    "###### COLUMN FIRST_NAME"
   ]
  },
  {
   "cell_type": "code",
   "execution_count": 142,
   "id": "a2d6b185",
   "metadata": {},
   "outputs": [
    {
     "data": {
      "text/plain": [
       "682"
      ]
     },
     "execution_count": 142,
     "metadata": {},
     "output_type": "execute_result"
    }
   ],
   "source": [
    "dtf[\"First_Name\"].isnull().sum()"
   ]
  },
  {
   "cell_type": "code",
   "execution_count": 143,
   "id": "2249b23c",
   "metadata": {},
   "outputs": [
    {
     "data": {
      "text/plain": [
       "dtype('O')"
      ]
     },
     "execution_count": 143,
     "metadata": {},
     "output_type": "execute_result"
    }
   ],
   "source": [
    "dtf[\"First_Name\"].dtype"
   ]
  },
  {
   "cell_type": "code",
   "execution_count": 144,
   "id": "41f93247",
   "metadata": {},
   "outputs": [
    {
     "data": {
      "text/html": [
       "<div>\n",
       "<style scoped>\n",
       "    .dataframe tbody tr th:only-of-type {\n",
       "        vertical-align: middle;\n",
       "    }\n",
       "\n",
       "    .dataframe tbody tr th {\n",
       "        vertical-align: top;\n",
       "    }\n",
       "\n",
       "    .dataframe thead th {\n",
       "        text-align: right;\n",
       "    }\n",
       "</style>\n",
       "<table border=\"1\" class=\"dataframe\">\n",
       "  <thead>\n",
       "    <tr style=\"text-align: right;\">\n",
       "      <th></th>\n",
       "      <th>Call_ID</th>\n",
       "      <th>Sale</th>\n",
       "      <th>Agent_ID</th>\n",
       "      <th>Age</th>\n",
       "      <th>Product_ID</th>\n",
       "      <th>Timezone</th>\n",
       "      <th>Phone_code</th>\n",
       "      <th>First_Name</th>\n",
       "      <th>Last_Name</th>\n",
       "      <th>Area_Code</th>\n",
       "      <th>Gender</th>\n",
       "      <th>Call_Count</th>\n",
       "    </tr>\n",
       "  </thead>\n",
       "  <tbody>\n",
       "    <tr>\n",
       "      <th>0</th>\n",
       "      <td>9545434</td>\n",
       "      <td>False</td>\n",
       "      <td>5265</td>\n",
       "      <td>42</td>\n",
       "      <td>147</td>\n",
       "      <td>2</td>\n",
       "      <td>37.0</td>\n",
       "      <td>Jk</td>\n",
       "      <td>Jk</td>\n",
       "      <td>2302</td>\n",
       "      <td>Male</td>\n",
       "      <td>1</td>\n",
       "    </tr>\n",
       "    <tr>\n",
       "      <th>1</th>\n",
       "      <td>9211206</td>\n",
       "      <td>False</td>\n",
       "      <td>5226</td>\n",
       "      <td>74</td>\n",
       "      <td>146</td>\n",
       "      <td>2</td>\n",
       "      <td>37.0</td>\n",
       "      <td>Em</td>\n",
       "      <td>Sh</td>\n",
       "      <td>1501</td>\n",
       "      <td>Male</td>\n",
       "      <td>10</td>\n",
       "    </tr>\n",
       "    <tr>\n",
       "      <th>2</th>\n",
       "      <td>8873010</td>\n",
       "      <td>False</td>\n",
       "      <td>4452</td>\n",
       "      <td>35</td>\n",
       "      <td>144</td>\n",
       "      <td>2</td>\n",
       "      <td>37.0</td>\n",
       "      <td>BI</td>\n",
       "      <td>MI</td>\n",
       "      <td>1550</td>\n",
       "      <td>Male</td>\n",
       "      <td>9</td>\n",
       "    </tr>\n",
       "    <tr>\n",
       "      <th>3</th>\n",
       "      <td>9852034</td>\n",
       "      <td>False</td>\n",
       "      <td>5461</td>\n",
       "      <td>40</td>\n",
       "      <td>149</td>\n",
       "      <td>2</td>\n",
       "      <td>37.0</td>\n",
       "      <td>WT</td>\n",
       "      <td>LI</td>\n",
       "      <td>1401</td>\n",
       "      <td>Male</td>\n",
       "      <td>6</td>\n",
       "    </tr>\n",
       "    <tr>\n",
       "      <th>4</th>\n",
       "      <td>9416548</td>\n",
       "      <td>False</td>\n",
       "      <td>5298</td>\n",
       "      <td>26</td>\n",
       "      <td>147</td>\n",
       "      <td>2</td>\n",
       "      <td>37.0</td>\n",
       "      <td>LA</td>\n",
       "      <td>LA</td>\n",
       "      <td>125</td>\n",
       "      <td>Female</td>\n",
       "      <td>12</td>\n",
       "    </tr>\n",
       "    <tr>\n",
       "      <th>...</th>\n",
       "      <td>...</td>\n",
       "      <td>...</td>\n",
       "      <td>...</td>\n",
       "      <td>...</td>\n",
       "      <td>...</td>\n",
       "      <td>...</td>\n",
       "      <td>...</td>\n",
       "      <td>...</td>\n",
       "      <td>...</td>\n",
       "      <td>...</td>\n",
       "      <td>...</td>\n",
       "      <td>...</td>\n",
       "    </tr>\n",
       "    <tr>\n",
       "      <th>99995</th>\n",
       "      <td>10249682</td>\n",
       "      <td>False</td>\n",
       "      <td>5404</td>\n",
       "      <td>65</td>\n",
       "      <td>150</td>\n",
       "      <td>2</td>\n",
       "      <td>37.0</td>\n",
       "      <td>Iy</td>\n",
       "      <td>Rn</td>\n",
       "      <td>4068</td>\n",
       "      <td>Female</td>\n",
       "      <td>1</td>\n",
       "    </tr>\n",
       "    <tr>\n",
       "      <th>99996</th>\n",
       "      <td>8955506</td>\n",
       "      <td>False</td>\n",
       "      <td>5181</td>\n",
       "      <td>37</td>\n",
       "      <td>144</td>\n",
       "      <td>2</td>\n",
       "      <td>37.0</td>\n",
       "      <td>ZA</td>\n",
       "      <td>OE</td>\n",
       "      <td>4450</td>\n",
       "      <td>Female</td>\n",
       "      <td>6</td>\n",
       "    </tr>\n",
       "    <tr>\n",
       "      <th>99997</th>\n",
       "      <td>9299394</td>\n",
       "      <td>False</td>\n",
       "      <td>5077</td>\n",
       "      <td>69</td>\n",
       "      <td>146</td>\n",
       "      <td>2</td>\n",
       "      <td>37.0</td>\n",
       "      <td>Wm</td>\n",
       "      <td>Vr</td>\n",
       "      <td>1759</td>\n",
       "      <td>Male</td>\n",
       "      <td>1</td>\n",
       "    </tr>\n",
       "    <tr>\n",
       "      <th>99998</th>\n",
       "      <td>9549720</td>\n",
       "      <td>False</td>\n",
       "      <td>5028</td>\n",
       "      <td>67</td>\n",
       "      <td>147</td>\n",
       "      <td>2</td>\n",
       "      <td>37.0</td>\n",
       "      <td>Ze</td>\n",
       "      <td>Ze</td>\n",
       "      <td>1475</td>\n",
       "      <td>Male</td>\n",
       "      <td>1</td>\n",
       "    </tr>\n",
       "    <tr>\n",
       "      <th>99999</th>\n",
       "      <td>9702206</td>\n",
       "      <td>False</td>\n",
       "      <td>5464</td>\n",
       "      <td>63</td>\n",
       "      <td>148</td>\n",
       "      <td>2</td>\n",
       "      <td>37.0</td>\n",
       "      <td>EH</td>\n",
       "      <td>MA</td>\n",
       "      <td>1864</td>\n",
       "      <td>Female</td>\n",
       "      <td>15</td>\n",
       "    </tr>\n",
       "  </tbody>\n",
       "</table>\n",
       "<p>100000 rows × 12 columns</p>\n",
       "</div>"
      ],
      "text/plain": [
       "        Call_ID   Sale Agent_ID  Age  Product_ID  Timezone  Phone_code  \\\n",
       "0       9545434  False     5265   42         147         2        37.0   \n",
       "1       9211206  False     5226   74         146         2        37.0   \n",
       "2       8873010  False     4452   35         144         2        37.0   \n",
       "3       9852034  False     5461   40         149         2        37.0   \n",
       "4       9416548  False     5298   26         147         2        37.0   \n",
       "...         ...    ...      ...  ...         ...       ...         ...   \n",
       "99995  10249682  False     5404   65         150         2        37.0   \n",
       "99996   8955506  False     5181   37         144         2        37.0   \n",
       "99997   9299394  False     5077   69         146         2        37.0   \n",
       "99998   9549720  False     5028   67         147         2        37.0   \n",
       "99999   9702206  False     5464   63         148         2        37.0   \n",
       "\n",
       "      First_Name Last_Name Area_Code  Gender  Call_Count  \n",
       "0             Jk        Jk      2302    Male           1  \n",
       "1             Em        Sh      1501    Male          10  \n",
       "2             BI        MI      1550    Male           9  \n",
       "3             WT        LI      1401    Male           6  \n",
       "4             LA        LA       125  Female          12  \n",
       "...          ...       ...       ...     ...         ...  \n",
       "99995         Iy        Rn      4068  Female           1  \n",
       "99996         ZA        OE      4450  Female           6  \n",
       "99997         Wm        Vr      1759    Male           1  \n",
       "99998         Ze        Ze      1475    Male           1  \n",
       "99999         EH        MA      1864  Female          15  \n",
       "\n",
       "[100000 rows x 12 columns]"
      ]
     },
     "execution_count": 144,
     "metadata": {},
     "output_type": "execute_result"
    }
   ],
   "source": [
    "dtf[\"First_Name\"].fillna(dtf[\"First_Name\"].mode()[0],inplace = True)\n",
    "dtf"
   ]
  },
  {
   "cell_type": "code",
   "execution_count": 145,
   "id": "f5413502",
   "metadata": {},
   "outputs": [
    {
     "data": {
      "text/plain": [
       "0"
      ]
     },
     "execution_count": 145,
     "metadata": {},
     "output_type": "execute_result"
    }
   ],
   "source": [
    "dtf[\"First_Name\"].isnull().sum()"
   ]
  },
  {
   "cell_type": "code",
   "execution_count": 146,
   "id": "6e4634da",
   "metadata": {},
   "outputs": [
    {
     "data": {
      "text/plain": [
       "Call_ID         0\n",
       "Sale            0\n",
       "Agent_ID        0\n",
       "Age             0\n",
       "Product_ID      0\n",
       "Timezone        0\n",
       "Phone_code      0\n",
       "First_Name      0\n",
       "Last_Name     681\n",
       "Area_Code     460\n",
       "Gender          0\n",
       "Call_Count      0\n",
       "dtype: int64"
      ]
     },
     "execution_count": 146,
     "metadata": {},
     "output_type": "execute_result"
    }
   ],
   "source": [
    "dtf.isnull().sum()"
   ]
  },
  {
   "cell_type": "markdown",
   "id": "ae8eae75",
   "metadata": {},
   "source": [
    "###### -x"
   ]
  },
  {
   "cell_type": "markdown",
   "id": "6fffbf6e",
   "metadata": {},
   "source": [
    "#### COLUMN LAST_NAME"
   ]
  },
  {
   "cell_type": "code",
   "execution_count": 147,
   "id": "b5dcbdcf",
   "metadata": {},
   "outputs": [
    {
     "data": {
      "text/plain": [
       "681"
      ]
     },
     "execution_count": 147,
     "metadata": {},
     "output_type": "execute_result"
    }
   ],
   "source": [
    "dtf[\"Last_Name\"].isnull().sum()"
   ]
  },
  {
   "cell_type": "code",
   "execution_count": 148,
   "id": "9e63467e",
   "metadata": {},
   "outputs": [
    {
     "data": {
      "text/plain": [
       "dtype('O')"
      ]
     },
     "execution_count": 148,
     "metadata": {},
     "output_type": "execute_result"
    }
   ],
   "source": [
    "dtf[\"Last_Name\"].dtype"
   ]
  },
  {
   "cell_type": "code",
   "execution_count": 149,
   "id": "a29f3794",
   "metadata": {},
   "outputs": [
    {
     "data": {
      "text/html": [
       "<div>\n",
       "<style scoped>\n",
       "    .dataframe tbody tr th:only-of-type {\n",
       "        vertical-align: middle;\n",
       "    }\n",
       "\n",
       "    .dataframe tbody tr th {\n",
       "        vertical-align: top;\n",
       "    }\n",
       "\n",
       "    .dataframe thead th {\n",
       "        text-align: right;\n",
       "    }\n",
       "</style>\n",
       "<table border=\"1\" class=\"dataframe\">\n",
       "  <thead>\n",
       "    <tr style=\"text-align: right;\">\n",
       "      <th></th>\n",
       "      <th>Call_ID</th>\n",
       "      <th>Sale</th>\n",
       "      <th>Agent_ID</th>\n",
       "      <th>Age</th>\n",
       "      <th>Product_ID</th>\n",
       "      <th>Timezone</th>\n",
       "      <th>Phone_code</th>\n",
       "      <th>First_Name</th>\n",
       "      <th>Last_Name</th>\n",
       "      <th>Area_Code</th>\n",
       "      <th>Gender</th>\n",
       "      <th>Call_Count</th>\n",
       "    </tr>\n",
       "  </thead>\n",
       "  <tbody>\n",
       "    <tr>\n",
       "      <th>0</th>\n",
       "      <td>9545434</td>\n",
       "      <td>False</td>\n",
       "      <td>5265</td>\n",
       "      <td>42</td>\n",
       "      <td>147</td>\n",
       "      <td>2</td>\n",
       "      <td>37.0</td>\n",
       "      <td>Jk</td>\n",
       "      <td>Jk</td>\n",
       "      <td>2302</td>\n",
       "      <td>Male</td>\n",
       "      <td>1</td>\n",
       "    </tr>\n",
       "    <tr>\n",
       "      <th>1</th>\n",
       "      <td>9211206</td>\n",
       "      <td>False</td>\n",
       "      <td>5226</td>\n",
       "      <td>74</td>\n",
       "      <td>146</td>\n",
       "      <td>2</td>\n",
       "      <td>37.0</td>\n",
       "      <td>Em</td>\n",
       "      <td>Sh</td>\n",
       "      <td>1501</td>\n",
       "      <td>Male</td>\n",
       "      <td>10</td>\n",
       "    </tr>\n",
       "    <tr>\n",
       "      <th>2</th>\n",
       "      <td>8873010</td>\n",
       "      <td>False</td>\n",
       "      <td>4452</td>\n",
       "      <td>35</td>\n",
       "      <td>144</td>\n",
       "      <td>2</td>\n",
       "      <td>37.0</td>\n",
       "      <td>BI</td>\n",
       "      <td>MI</td>\n",
       "      <td>1550</td>\n",
       "      <td>Male</td>\n",
       "      <td>9</td>\n",
       "    </tr>\n",
       "    <tr>\n",
       "      <th>3</th>\n",
       "      <td>9852034</td>\n",
       "      <td>False</td>\n",
       "      <td>5461</td>\n",
       "      <td>40</td>\n",
       "      <td>149</td>\n",
       "      <td>2</td>\n",
       "      <td>37.0</td>\n",
       "      <td>WT</td>\n",
       "      <td>LI</td>\n",
       "      <td>1401</td>\n",
       "      <td>Male</td>\n",
       "      <td>6</td>\n",
       "    </tr>\n",
       "    <tr>\n",
       "      <th>4</th>\n",
       "      <td>9416548</td>\n",
       "      <td>False</td>\n",
       "      <td>5298</td>\n",
       "      <td>26</td>\n",
       "      <td>147</td>\n",
       "      <td>2</td>\n",
       "      <td>37.0</td>\n",
       "      <td>LA</td>\n",
       "      <td>LA</td>\n",
       "      <td>125</td>\n",
       "      <td>Female</td>\n",
       "      <td>12</td>\n",
       "    </tr>\n",
       "    <tr>\n",
       "      <th>...</th>\n",
       "      <td>...</td>\n",
       "      <td>...</td>\n",
       "      <td>...</td>\n",
       "      <td>...</td>\n",
       "      <td>...</td>\n",
       "      <td>...</td>\n",
       "      <td>...</td>\n",
       "      <td>...</td>\n",
       "      <td>...</td>\n",
       "      <td>...</td>\n",
       "      <td>...</td>\n",
       "      <td>...</td>\n",
       "    </tr>\n",
       "    <tr>\n",
       "      <th>99995</th>\n",
       "      <td>10249682</td>\n",
       "      <td>False</td>\n",
       "      <td>5404</td>\n",
       "      <td>65</td>\n",
       "      <td>150</td>\n",
       "      <td>2</td>\n",
       "      <td>37.0</td>\n",
       "      <td>Iy</td>\n",
       "      <td>Rn</td>\n",
       "      <td>4068</td>\n",
       "      <td>Female</td>\n",
       "      <td>1</td>\n",
       "    </tr>\n",
       "    <tr>\n",
       "      <th>99996</th>\n",
       "      <td>8955506</td>\n",
       "      <td>False</td>\n",
       "      <td>5181</td>\n",
       "      <td>37</td>\n",
       "      <td>144</td>\n",
       "      <td>2</td>\n",
       "      <td>37.0</td>\n",
       "      <td>ZA</td>\n",
       "      <td>OE</td>\n",
       "      <td>4450</td>\n",
       "      <td>Female</td>\n",
       "      <td>6</td>\n",
       "    </tr>\n",
       "    <tr>\n",
       "      <th>99997</th>\n",
       "      <td>9299394</td>\n",
       "      <td>False</td>\n",
       "      <td>5077</td>\n",
       "      <td>69</td>\n",
       "      <td>146</td>\n",
       "      <td>2</td>\n",
       "      <td>37.0</td>\n",
       "      <td>Wm</td>\n",
       "      <td>Vr</td>\n",
       "      <td>1759</td>\n",
       "      <td>Male</td>\n",
       "      <td>1</td>\n",
       "    </tr>\n",
       "    <tr>\n",
       "      <th>99998</th>\n",
       "      <td>9549720</td>\n",
       "      <td>False</td>\n",
       "      <td>5028</td>\n",
       "      <td>67</td>\n",
       "      <td>147</td>\n",
       "      <td>2</td>\n",
       "      <td>37.0</td>\n",
       "      <td>Ze</td>\n",
       "      <td>Ze</td>\n",
       "      <td>1475</td>\n",
       "      <td>Male</td>\n",
       "      <td>1</td>\n",
       "    </tr>\n",
       "    <tr>\n",
       "      <th>99999</th>\n",
       "      <td>9702206</td>\n",
       "      <td>False</td>\n",
       "      <td>5464</td>\n",
       "      <td>63</td>\n",
       "      <td>148</td>\n",
       "      <td>2</td>\n",
       "      <td>37.0</td>\n",
       "      <td>EH</td>\n",
       "      <td>MA</td>\n",
       "      <td>1864</td>\n",
       "      <td>Female</td>\n",
       "      <td>15</td>\n",
       "    </tr>\n",
       "  </tbody>\n",
       "</table>\n",
       "<p>100000 rows × 12 columns</p>\n",
       "</div>"
      ],
      "text/plain": [
       "        Call_ID   Sale Agent_ID  Age  Product_ID  Timezone  Phone_code  \\\n",
       "0       9545434  False     5265   42         147         2        37.0   \n",
       "1       9211206  False     5226   74         146         2        37.0   \n",
       "2       8873010  False     4452   35         144         2        37.0   \n",
       "3       9852034  False     5461   40         149         2        37.0   \n",
       "4       9416548  False     5298   26         147         2        37.0   \n",
       "...         ...    ...      ...  ...         ...       ...         ...   \n",
       "99995  10249682  False     5404   65         150         2        37.0   \n",
       "99996   8955506  False     5181   37         144         2        37.0   \n",
       "99997   9299394  False     5077   69         146         2        37.0   \n",
       "99998   9549720  False     5028   67         147         2        37.0   \n",
       "99999   9702206  False     5464   63         148         2        37.0   \n",
       "\n",
       "      First_Name Last_Name Area_Code  Gender  Call_Count  \n",
       "0             Jk        Jk      2302    Male           1  \n",
       "1             Em        Sh      1501    Male          10  \n",
       "2             BI        MI      1550    Male           9  \n",
       "3             WT        LI      1401    Male           6  \n",
       "4             LA        LA       125  Female          12  \n",
       "...          ...       ...       ...     ...         ...  \n",
       "99995         Iy        Rn      4068  Female           1  \n",
       "99996         ZA        OE      4450  Female           6  \n",
       "99997         Wm        Vr      1759    Male           1  \n",
       "99998         Ze        Ze      1475    Male           1  \n",
       "99999         EH        MA      1864  Female          15  \n",
       "\n",
       "[100000 rows x 12 columns]"
      ]
     },
     "execution_count": 149,
     "metadata": {},
     "output_type": "execute_result"
    }
   ],
   "source": [
    "dtf[\"Last_Name\"].fillna(dtf[\"Last_Name\"].mode()[0],inplace = True)\n",
    "dtf"
   ]
  },
  {
   "cell_type": "code",
   "execution_count": 150,
   "id": "e98ba63b",
   "metadata": {},
   "outputs": [
    {
     "data": {
      "text/plain": [
       "0"
      ]
     },
     "execution_count": 150,
     "metadata": {},
     "output_type": "execute_result"
    }
   ],
   "source": [
    "dtf[\"Last_Name\"].isnull().sum()"
   ]
  },
  {
   "cell_type": "code",
   "execution_count": 151,
   "id": "543dd137",
   "metadata": {},
   "outputs": [
    {
     "data": {
      "text/plain": [
       "Call_ID         0\n",
       "Sale            0\n",
       "Agent_ID        0\n",
       "Age             0\n",
       "Product_ID      0\n",
       "Timezone        0\n",
       "Phone_code      0\n",
       "First_Name      0\n",
       "Last_Name       0\n",
       "Area_Code     460\n",
       "Gender          0\n",
       "Call_Count      0\n",
       "dtype: int64"
      ]
     },
     "execution_count": 151,
     "metadata": {},
     "output_type": "execute_result"
    }
   ],
   "source": [
    "dtf.isnull().sum()"
   ]
  },
  {
   "cell_type": "markdown",
   "id": "35751520",
   "metadata": {},
   "source": [
    "###### -x"
   ]
  },
  {
   "cell_type": "markdown",
   "id": "ff711268",
   "metadata": {},
   "source": [
    "#### COLUMN AREA_CODE"
   ]
  },
  {
   "cell_type": "code",
   "execution_count": 152,
   "id": "67915420",
   "metadata": {},
   "outputs": [
    {
     "data": {
      "text/plain": [
       "dtype('O')"
      ]
     },
     "execution_count": 152,
     "metadata": {},
     "output_type": "execute_result"
    }
   ],
   "source": [
    "dtf[\"Area_Code\"].dtype"
   ]
  },
  {
   "cell_type": "code",
   "execution_count": 153,
   "id": "108ce958",
   "metadata": {},
   "outputs": [
    {
     "data": {
      "text/html": [
       "<div>\n",
       "<style scoped>\n",
       "    .dataframe tbody tr th:only-of-type {\n",
       "        vertical-align: middle;\n",
       "    }\n",
       "\n",
       "    .dataframe tbody tr th {\n",
       "        vertical-align: top;\n",
       "    }\n",
       "\n",
       "    .dataframe thead th {\n",
       "        text-align: right;\n",
       "    }\n",
       "</style>\n",
       "<table border=\"1\" class=\"dataframe\">\n",
       "  <thead>\n",
       "    <tr style=\"text-align: right;\">\n",
       "      <th></th>\n",
       "      <th>Call_ID</th>\n",
       "      <th>Sale</th>\n",
       "      <th>Agent_ID</th>\n",
       "      <th>Age</th>\n",
       "      <th>Product_ID</th>\n",
       "      <th>Timezone</th>\n",
       "      <th>Phone_code</th>\n",
       "      <th>First_Name</th>\n",
       "      <th>Last_Name</th>\n",
       "      <th>Area_Code</th>\n",
       "      <th>Gender</th>\n",
       "      <th>Call_Count</th>\n",
       "    </tr>\n",
       "  </thead>\n",
       "  <tbody>\n",
       "    <tr>\n",
       "      <th>70850</th>\n",
       "      <td>9166568</td>\n",
       "      <td>True</td>\n",
       "      <td>4709</td>\n",
       "      <td>28</td>\n",
       "      <td>145</td>\n",
       "      <td>2</td>\n",
       "      <td>37.0</td>\n",
       "      <td>WY</td>\n",
       "      <td>MA</td>\n",
       "      <td>1451d</td>\n",
       "      <td>Male</td>\n",
       "      <td>4</td>\n",
       "    </tr>\n",
       "  </tbody>\n",
       "</table>\n",
       "</div>"
      ],
      "text/plain": [
       "       Call_ID  Sale Agent_ID  Age  Product_ID  Timezone  Phone_code  \\\n",
       "70850  9166568  True     4709   28         145         2        37.0   \n",
       "\n",
       "      First_Name Last_Name Area_Code Gender  Call_Count  \n",
       "70850         WY        MA     1451d   Male           4  "
      ]
     },
     "execution_count": 153,
     "metadata": {},
     "output_type": "execute_result"
    }
   ],
   "source": [
    "dtf[dtf.Area_Code == \"1451d\"]"
   ]
  },
  {
   "cell_type": "code",
   "execution_count": 99,
   "id": "ae8b1317",
   "metadata": {},
   "outputs": [
    {
     "data": {
      "text/html": [
       "<div>\n",
       "<style scoped>\n",
       "    .dataframe tbody tr th:only-of-type {\n",
       "        vertical-align: middle;\n",
       "    }\n",
       "\n",
       "    .dataframe tbody tr th {\n",
       "        vertical-align: top;\n",
       "    }\n",
       "\n",
       "    .dataframe thead th {\n",
       "        text-align: right;\n",
       "    }\n",
       "</style>\n",
       "<table border=\"1\" class=\"dataframe\">\n",
       "  <thead>\n",
       "    <tr style=\"text-align: right;\">\n",
       "      <th></th>\n",
       "      <th>Call_ID</th>\n",
       "      <th>Sale</th>\n",
       "      <th>Agent_ID</th>\n",
       "      <th>Age</th>\n",
       "      <th>Product_ID</th>\n",
       "      <th>Timezone</th>\n",
       "      <th>Phone_code</th>\n",
       "      <th>First_Name</th>\n",
       "      <th>Last_Name</th>\n",
       "      <th>Area_Code</th>\n",
       "      <th>Gender</th>\n",
       "      <th>Call_Count</th>\n",
       "    </tr>\n",
       "  </thead>\n",
       "  <tbody>\n",
       "  </tbody>\n",
       "</table>\n",
       "</div>"
      ],
      "text/plain": [
       "Empty DataFrame\n",
       "Columns: [Call_ID, Sale, Agent_ID, Age, Product_ID, Timezone, Phone_code, First_Name, Last_Name, Area_Code, Gender, Call_Count]\n",
       "Index: []"
      ]
     },
     "execution_count": 99,
     "metadata": {},
     "output_type": "execute_result"
    }
   ],
   "source": [
    "dtf[dtf.Area_Code == \"1451d\"].drop(70850)#index"
   ]
  },
  {
   "cell_type": "code",
   "execution_count": 154,
   "id": "636f2509",
   "metadata": {},
   "outputs": [
    {
     "data": {
      "text/html": [
       "<div>\n",
       "<style scoped>\n",
       "    .dataframe tbody tr th:only-of-type {\n",
       "        vertical-align: middle;\n",
       "    }\n",
       "\n",
       "    .dataframe tbody tr th {\n",
       "        vertical-align: top;\n",
       "    }\n",
       "\n",
       "    .dataframe thead th {\n",
       "        text-align: right;\n",
       "    }\n",
       "</style>\n",
       "<table border=\"1\" class=\"dataframe\">\n",
       "  <thead>\n",
       "    <tr style=\"text-align: right;\">\n",
       "      <th></th>\n",
       "      <th>Call_ID</th>\n",
       "      <th>Sale</th>\n",
       "      <th>Agent_ID</th>\n",
       "      <th>Age</th>\n",
       "      <th>Product_ID</th>\n",
       "      <th>Timezone</th>\n",
       "      <th>Phone_code</th>\n",
       "      <th>First_Name</th>\n",
       "      <th>Last_Name</th>\n",
       "      <th>Area_Code</th>\n",
       "      <th>Gender</th>\n",
       "      <th>Call_Count</th>\n",
       "    </tr>\n",
       "  </thead>\n",
       "  <tbody>\n",
       "    <tr>\n",
       "      <th>34057</th>\n",
       "      <td>9685512</td>\n",
       "      <td>False</td>\n",
       "      <td>4955</td>\n",
       "      <td>75</td>\n",
       "      <td>148</td>\n",
       "      <td>2</td>\n",
       "      <td>37.0</td>\n",
       "      <td>cs</td>\n",
       "      <td>es</td>\n",
       "      <td>E.C</td>\n",
       "      <td>Male</td>\n",
       "      <td>3</td>\n",
       "    </tr>\n",
       "  </tbody>\n",
       "</table>\n",
       "</div>"
      ],
      "text/plain": [
       "       Call_ID   Sale Agent_ID  Age  Product_ID  Timezone  Phone_code  \\\n",
       "34057  9685512  False     4955   75         148         2        37.0   \n",
       "\n",
       "      First_Name Last_Name Area_Code Gender  Call_Count  \n",
       "34057         cs        es       E.C   Male           3  "
      ]
     },
     "execution_count": 154,
     "metadata": {},
     "output_type": "execute_result"
    }
   ],
   "source": [
    "dtf[dtf.Area_Code == \"E.C\"]"
   ]
  },
  {
   "cell_type": "code",
   "execution_count": 155,
   "id": "f1a234dd",
   "metadata": {},
   "outputs": [
    {
     "data": {
      "text/html": [
       "<div>\n",
       "<style scoped>\n",
       "    .dataframe tbody tr th:only-of-type {\n",
       "        vertical-align: middle;\n",
       "    }\n",
       "\n",
       "    .dataframe tbody tr th {\n",
       "        vertical-align: top;\n",
       "    }\n",
       "\n",
       "    .dataframe thead th {\n",
       "        text-align: right;\n",
       "    }\n",
       "</style>\n",
       "<table border=\"1\" class=\"dataframe\">\n",
       "  <thead>\n",
       "    <tr style=\"text-align: right;\">\n",
       "      <th></th>\n",
       "      <th>Call_ID</th>\n",
       "      <th>Sale</th>\n",
       "      <th>Agent_ID</th>\n",
       "      <th>Age</th>\n",
       "      <th>Product_ID</th>\n",
       "      <th>Timezone</th>\n",
       "      <th>Phone_code</th>\n",
       "      <th>First_Name</th>\n",
       "      <th>Last_Name</th>\n",
       "      <th>Area_Code</th>\n",
       "      <th>Gender</th>\n",
       "      <th>Call_Count</th>\n",
       "    </tr>\n",
       "  </thead>\n",
       "  <tbody>\n",
       "  </tbody>\n",
       "</table>\n",
       "</div>"
      ],
      "text/plain": [
       "Empty DataFrame\n",
       "Columns: [Call_ID, Sale, Agent_ID, Age, Product_ID, Timezone, Phone_code, First_Name, Last_Name, Area_Code, Gender, Call_Count]\n",
       "Index: []"
      ]
     },
     "execution_count": 155,
     "metadata": {},
     "output_type": "execute_result"
    }
   ],
   "source": [
    "dtf[dtf.Area_Code == \"E.C\"].drop(34057)"
   ]
  },
  {
   "cell_type": "code",
   "execution_count": 156,
   "id": "ea28e8c8",
   "metadata": {},
   "outputs": [
    {
     "data": {
      "text/html": [
       "<div>\n",
       "<style scoped>\n",
       "    .dataframe tbody tr th:only-of-type {\n",
       "        vertical-align: middle;\n",
       "    }\n",
       "\n",
       "    .dataframe tbody tr th {\n",
       "        vertical-align: top;\n",
       "    }\n",
       "\n",
       "    .dataframe thead th {\n",
       "        text-align: right;\n",
       "    }\n",
       "</style>\n",
       "<table border=\"1\" class=\"dataframe\">\n",
       "  <thead>\n",
       "    <tr style=\"text-align: right;\">\n",
       "      <th></th>\n",
       "      <th>Call_ID</th>\n",
       "      <th>Sale</th>\n",
       "      <th>Agent_ID</th>\n",
       "      <th>Age</th>\n",
       "      <th>Product_ID</th>\n",
       "      <th>Timezone</th>\n",
       "      <th>Phone_code</th>\n",
       "      <th>First_Name</th>\n",
       "      <th>Last_Name</th>\n",
       "      <th>Area_Code</th>\n",
       "      <th>Gender</th>\n",
       "      <th>Call_Count</th>\n",
       "    </tr>\n",
       "  </thead>\n",
       "  <tbody>\n",
       "    <tr>\n",
       "      <th>24114</th>\n",
       "      <td>8640704</td>\n",
       "      <td>False</td>\n",
       "      <td>5386</td>\n",
       "      <td>60</td>\n",
       "      <td>143</td>\n",
       "      <td>2</td>\n",
       "      <td>37.0</td>\n",
       "      <td>JE</td>\n",
       "      <td>KI</td>\n",
       "      <td>`</td>\n",
       "      <td>Female</td>\n",
       "      <td>3</td>\n",
       "    </tr>\n",
       "  </tbody>\n",
       "</table>\n",
       "</div>"
      ],
      "text/plain": [
       "       Call_ID   Sale Agent_ID  Age  Product_ID  Timezone  Phone_code  \\\n",
       "24114  8640704  False     5386   60         143         2        37.0   \n",
       "\n",
       "      First_Name Last_Name Area_Code  Gender  Call_Count  \n",
       "24114         JE        KI         `  Female           3  "
      ]
     },
     "execution_count": 156,
     "metadata": {},
     "output_type": "execute_result"
    }
   ],
   "source": [
    "dtf[dtf.Area_Code == \"`\"]"
   ]
  },
  {
   "cell_type": "code",
   "execution_count": 157,
   "id": "2858c36a",
   "metadata": {},
   "outputs": [
    {
     "data": {
      "text/html": [
       "<div>\n",
       "<style scoped>\n",
       "    .dataframe tbody tr th:only-of-type {\n",
       "        vertical-align: middle;\n",
       "    }\n",
       "\n",
       "    .dataframe tbody tr th {\n",
       "        vertical-align: top;\n",
       "    }\n",
       "\n",
       "    .dataframe thead th {\n",
       "        text-align: right;\n",
       "    }\n",
       "</style>\n",
       "<table border=\"1\" class=\"dataframe\">\n",
       "  <thead>\n",
       "    <tr style=\"text-align: right;\">\n",
       "      <th></th>\n",
       "      <th>Call_ID</th>\n",
       "      <th>Sale</th>\n",
       "      <th>Agent_ID</th>\n",
       "      <th>Age</th>\n",
       "      <th>Product_ID</th>\n",
       "      <th>Timezone</th>\n",
       "      <th>Phone_code</th>\n",
       "      <th>First_Name</th>\n",
       "      <th>Last_Name</th>\n",
       "      <th>Area_Code</th>\n",
       "      <th>Gender</th>\n",
       "      <th>Call_Count</th>\n",
       "    </tr>\n",
       "  </thead>\n",
       "  <tbody>\n",
       "  </tbody>\n",
       "</table>\n",
       "</div>"
      ],
      "text/plain": [
       "Empty DataFrame\n",
       "Columns: [Call_ID, Sale, Agent_ID, Age, Product_ID, Timezone, Phone_code, First_Name, Last_Name, Area_Code, Gender, Call_Count]\n",
       "Index: []"
      ]
     },
     "execution_count": 157,
     "metadata": {},
     "output_type": "execute_result"
    }
   ],
   "source": [
    "dtf[dtf.Area_Code == \"`\"].drop(24114)"
   ]
  },
  {
   "cell_type": "code",
   "execution_count": 158,
   "id": "d8c44309",
   "metadata": {},
   "outputs": [
    {
     "data": {
      "text/html": [
       "<div>\n",
       "<style scoped>\n",
       "    .dataframe tbody tr th:only-of-type {\n",
       "        vertical-align: middle;\n",
       "    }\n",
       "\n",
       "    .dataframe tbody tr th {\n",
       "        vertical-align: top;\n",
       "    }\n",
       "\n",
       "    .dataframe thead th {\n",
       "        text-align: right;\n",
       "    }\n",
       "</style>\n",
       "<table border=\"1\" class=\"dataframe\">\n",
       "  <thead>\n",
       "    <tr style=\"text-align: right;\">\n",
       "      <th></th>\n",
       "      <th>Call_ID</th>\n",
       "      <th>Sale</th>\n",
       "      <th>Agent_ID</th>\n",
       "      <th>Age</th>\n",
       "      <th>Product_ID</th>\n",
       "      <th>Timezone</th>\n",
       "      <th>Phone_code</th>\n",
       "      <th>First_Name</th>\n",
       "      <th>Last_Name</th>\n",
       "      <th>Area_Code</th>\n",
       "      <th>Gender</th>\n",
       "      <th>Call_Count</th>\n",
       "    </tr>\n",
       "  </thead>\n",
       "  <tbody>\n",
       "    <tr>\n",
       "      <th>1509</th>\n",
       "      <td>9698908</td>\n",
       "      <td>True</td>\n",
       "      <td>4722</td>\n",
       "      <td>30</td>\n",
       "      <td>148</td>\n",
       "      <td>2</td>\n",
       "      <td>37.0</td>\n",
       "      <td>La</td>\n",
       "      <td>BA</td>\n",
       "      <td>JABULANI</td>\n",
       "      <td>Male</td>\n",
       "      <td>1</td>\n",
       "    </tr>\n",
       "  </tbody>\n",
       "</table>\n",
       "</div>"
      ],
      "text/plain": [
       "      Call_ID  Sale Agent_ID  Age  Product_ID  Timezone  Phone_code  \\\n",
       "1509  9698908  True     4722   30         148         2        37.0   \n",
       "\n",
       "     First_Name Last_Name  Area_Code Gender  Call_Count  \n",
       "1509         La        BA  JABULANI    Male           1  "
      ]
     },
     "execution_count": 158,
     "metadata": {},
     "output_type": "execute_result"
    }
   ],
   "source": [
    "dtf[dtf.Area_Code == \"JABULANI \"]"
   ]
  },
  {
   "cell_type": "code",
   "execution_count": 159,
   "id": "2f0a9eaf",
   "metadata": {},
   "outputs": [
    {
     "data": {
      "text/html": [
       "<div>\n",
       "<style scoped>\n",
       "    .dataframe tbody tr th:only-of-type {\n",
       "        vertical-align: middle;\n",
       "    }\n",
       "\n",
       "    .dataframe tbody tr th {\n",
       "        vertical-align: top;\n",
       "    }\n",
       "\n",
       "    .dataframe thead th {\n",
       "        text-align: right;\n",
       "    }\n",
       "</style>\n",
       "<table border=\"1\" class=\"dataframe\">\n",
       "  <thead>\n",
       "    <tr style=\"text-align: right;\">\n",
       "      <th></th>\n",
       "      <th>Call_ID</th>\n",
       "      <th>Sale</th>\n",
       "      <th>Agent_ID</th>\n",
       "      <th>Age</th>\n",
       "      <th>Product_ID</th>\n",
       "      <th>Timezone</th>\n",
       "      <th>Phone_code</th>\n",
       "      <th>First_Name</th>\n",
       "      <th>Last_Name</th>\n",
       "      <th>Area_Code</th>\n",
       "      <th>Gender</th>\n",
       "      <th>Call_Count</th>\n",
       "    </tr>\n",
       "  </thead>\n",
       "  <tbody>\n",
       "  </tbody>\n",
       "</table>\n",
       "</div>"
      ],
      "text/plain": [
       "Empty DataFrame\n",
       "Columns: [Call_ID, Sale, Agent_ID, Age, Product_ID, Timezone, Phone_code, First_Name, Last_Name, Area_Code, Gender, Call_Count]\n",
       "Index: []"
      ]
     },
     "execution_count": 159,
     "metadata": {},
     "output_type": "execute_result"
    }
   ],
   "source": [
    "dtf[dtf.Area_Code == \"JABULANI \"].drop(1509)"
   ]
  },
  {
   "cell_type": "code",
   "execution_count": 160,
   "id": "13c1be22",
   "metadata": {},
   "outputs": [
    {
     "data": {
      "text/html": [
       "<div>\n",
       "<style scoped>\n",
       "    .dataframe tbody tr th:only-of-type {\n",
       "        vertical-align: middle;\n",
       "    }\n",
       "\n",
       "    .dataframe tbody tr th {\n",
       "        vertical-align: top;\n",
       "    }\n",
       "\n",
       "    .dataframe thead th {\n",
       "        text-align: right;\n",
       "    }\n",
       "</style>\n",
       "<table border=\"1\" class=\"dataframe\">\n",
       "  <thead>\n",
       "    <tr style=\"text-align: right;\">\n",
       "      <th></th>\n",
       "      <th>Call_ID</th>\n",
       "      <th>Sale</th>\n",
       "      <th>Agent_ID</th>\n",
       "      <th>Age</th>\n",
       "      <th>Product_ID</th>\n",
       "      <th>Timezone</th>\n",
       "      <th>Phone_code</th>\n",
       "      <th>First_Name</th>\n",
       "      <th>Last_Name</th>\n",
       "      <th>Area_Code</th>\n",
       "      <th>Gender</th>\n",
       "      <th>Call_Count</th>\n",
       "    </tr>\n",
       "  </thead>\n",
       "  <tbody>\n",
       "    <tr>\n",
       "      <th>0</th>\n",
       "      <td>9545434</td>\n",
       "      <td>False</td>\n",
       "      <td>5265</td>\n",
       "      <td>42</td>\n",
       "      <td>147</td>\n",
       "      <td>2</td>\n",
       "      <td>37.0</td>\n",
       "      <td>Jk</td>\n",
       "      <td>Jk</td>\n",
       "      <td>2302</td>\n",
       "      <td>Male</td>\n",
       "      <td>1</td>\n",
       "    </tr>\n",
       "    <tr>\n",
       "      <th>1</th>\n",
       "      <td>9211206</td>\n",
       "      <td>False</td>\n",
       "      <td>5226</td>\n",
       "      <td>74</td>\n",
       "      <td>146</td>\n",
       "      <td>2</td>\n",
       "      <td>37.0</td>\n",
       "      <td>Em</td>\n",
       "      <td>Sh</td>\n",
       "      <td>1501</td>\n",
       "      <td>Male</td>\n",
       "      <td>10</td>\n",
       "    </tr>\n",
       "    <tr>\n",
       "      <th>2</th>\n",
       "      <td>8873010</td>\n",
       "      <td>False</td>\n",
       "      <td>4452</td>\n",
       "      <td>35</td>\n",
       "      <td>144</td>\n",
       "      <td>2</td>\n",
       "      <td>37.0</td>\n",
       "      <td>BI</td>\n",
       "      <td>MI</td>\n",
       "      <td>1550</td>\n",
       "      <td>Male</td>\n",
       "      <td>9</td>\n",
       "    </tr>\n",
       "    <tr>\n",
       "      <th>3</th>\n",
       "      <td>9852034</td>\n",
       "      <td>False</td>\n",
       "      <td>5461</td>\n",
       "      <td>40</td>\n",
       "      <td>149</td>\n",
       "      <td>2</td>\n",
       "      <td>37.0</td>\n",
       "      <td>WT</td>\n",
       "      <td>LI</td>\n",
       "      <td>1401</td>\n",
       "      <td>Male</td>\n",
       "      <td>6</td>\n",
       "    </tr>\n",
       "    <tr>\n",
       "      <th>4</th>\n",
       "      <td>9416548</td>\n",
       "      <td>False</td>\n",
       "      <td>5298</td>\n",
       "      <td>26</td>\n",
       "      <td>147</td>\n",
       "      <td>2</td>\n",
       "      <td>37.0</td>\n",
       "      <td>LA</td>\n",
       "      <td>LA</td>\n",
       "      <td>125</td>\n",
       "      <td>Female</td>\n",
       "      <td>12</td>\n",
       "    </tr>\n",
       "    <tr>\n",
       "      <th>...</th>\n",
       "      <td>...</td>\n",
       "      <td>...</td>\n",
       "      <td>...</td>\n",
       "      <td>...</td>\n",
       "      <td>...</td>\n",
       "      <td>...</td>\n",
       "      <td>...</td>\n",
       "      <td>...</td>\n",
       "      <td>...</td>\n",
       "      <td>...</td>\n",
       "      <td>...</td>\n",
       "      <td>...</td>\n",
       "    </tr>\n",
       "    <tr>\n",
       "      <th>99995</th>\n",
       "      <td>10249682</td>\n",
       "      <td>False</td>\n",
       "      <td>5404</td>\n",
       "      <td>65</td>\n",
       "      <td>150</td>\n",
       "      <td>2</td>\n",
       "      <td>37.0</td>\n",
       "      <td>Iy</td>\n",
       "      <td>Rn</td>\n",
       "      <td>4068</td>\n",
       "      <td>Female</td>\n",
       "      <td>1</td>\n",
       "    </tr>\n",
       "    <tr>\n",
       "      <th>99996</th>\n",
       "      <td>8955506</td>\n",
       "      <td>False</td>\n",
       "      <td>5181</td>\n",
       "      <td>37</td>\n",
       "      <td>144</td>\n",
       "      <td>2</td>\n",
       "      <td>37.0</td>\n",
       "      <td>ZA</td>\n",
       "      <td>OE</td>\n",
       "      <td>4450</td>\n",
       "      <td>Female</td>\n",
       "      <td>6</td>\n",
       "    </tr>\n",
       "    <tr>\n",
       "      <th>99997</th>\n",
       "      <td>9299394</td>\n",
       "      <td>False</td>\n",
       "      <td>5077</td>\n",
       "      <td>69</td>\n",
       "      <td>146</td>\n",
       "      <td>2</td>\n",
       "      <td>37.0</td>\n",
       "      <td>Wm</td>\n",
       "      <td>Vr</td>\n",
       "      <td>1759</td>\n",
       "      <td>Male</td>\n",
       "      <td>1</td>\n",
       "    </tr>\n",
       "    <tr>\n",
       "      <th>99998</th>\n",
       "      <td>9549720</td>\n",
       "      <td>False</td>\n",
       "      <td>5028</td>\n",
       "      <td>67</td>\n",
       "      <td>147</td>\n",
       "      <td>2</td>\n",
       "      <td>37.0</td>\n",
       "      <td>Ze</td>\n",
       "      <td>Ze</td>\n",
       "      <td>1475</td>\n",
       "      <td>Male</td>\n",
       "      <td>1</td>\n",
       "    </tr>\n",
       "    <tr>\n",
       "      <th>99999</th>\n",
       "      <td>9702206</td>\n",
       "      <td>False</td>\n",
       "      <td>5464</td>\n",
       "      <td>63</td>\n",
       "      <td>148</td>\n",
       "      <td>2</td>\n",
       "      <td>37.0</td>\n",
       "      <td>EH</td>\n",
       "      <td>MA</td>\n",
       "      <td>1864</td>\n",
       "      <td>Female</td>\n",
       "      <td>15</td>\n",
       "    </tr>\n",
       "  </tbody>\n",
       "</table>\n",
       "<p>100000 rows × 12 columns</p>\n",
       "</div>"
      ],
      "text/plain": [
       "        Call_ID   Sale Agent_ID  Age  Product_ID  Timezone  Phone_code  \\\n",
       "0       9545434  False     5265   42         147         2        37.0   \n",
       "1       9211206  False     5226   74         146         2        37.0   \n",
       "2       8873010  False     4452   35         144         2        37.0   \n",
       "3       9852034  False     5461   40         149         2        37.0   \n",
       "4       9416548  False     5298   26         147         2        37.0   \n",
       "...         ...    ...      ...  ...         ...       ...         ...   \n",
       "99995  10249682  False     5404   65         150         2        37.0   \n",
       "99996   8955506  False     5181   37         144         2        37.0   \n",
       "99997   9299394  False     5077   69         146         2        37.0   \n",
       "99998   9549720  False     5028   67         147         2        37.0   \n",
       "99999   9702206  False     5464   63         148         2        37.0   \n",
       "\n",
       "      First_Name Last_Name Area_Code  Gender  Call_Count  \n",
       "0             Jk        Jk      2302    Male           1  \n",
       "1             Em        Sh      1501    Male          10  \n",
       "2             BI        MI      1550    Male           9  \n",
       "3             WT        LI      1401    Male           6  \n",
       "4             LA        LA       125  Female          12  \n",
       "...          ...       ...       ...     ...         ...  \n",
       "99995         Iy        Rn      4068  Female           1  \n",
       "99996         ZA        OE      4450  Female           6  \n",
       "99997         Wm        Vr      1759    Male           1  \n",
       "99998         Ze        Ze      1475    Male           1  \n",
       "99999         EH        MA      1864  Female          15  \n",
       "\n",
       "[100000 rows x 12 columns]"
      ]
     },
     "execution_count": 160,
     "metadata": {},
     "output_type": "execute_result"
    }
   ],
   "source": [
    "dtf[\"Area_Code\"].fillna(dtf[\"Area_Code\"].mode()[0],inplace = True)\n",
    "dtf"
   ]
  },
  {
   "cell_type": "code",
   "execution_count": 171,
   "id": "565be39f",
   "metadata": {},
   "outputs": [
    {
     "data": {
      "text/plain": [
       "0"
      ]
     },
     "execution_count": 171,
     "metadata": {},
     "output_type": "execute_result"
    }
   ],
   "source": [
    "dtf[\"Area_Code\"].isnull().sum()"
   ]
  },
  {
   "cell_type": "code",
   "execution_count": 172,
   "id": "e65e7300",
   "metadata": {},
   "outputs": [
    {
     "data": {
      "text/plain": [
       "Call_ID       0\n",
       "Sale          0\n",
       "Agent_ID      0\n",
       "Age           0\n",
       "Product_ID    0\n",
       "Timezone      0\n",
       "Phone_code    0\n",
       "First_Name    0\n",
       "Last_Name     0\n",
       "Area_Code     0\n",
       "Gender        0\n",
       "Call_Count    0\n",
       "dtype: int64"
      ]
     },
     "execution_count": 172,
     "metadata": {},
     "output_type": "execute_result"
    }
   ],
   "source": [
    "dtf.isnull().sum()"
   ]
  },
  {
   "cell_type": "markdown",
   "id": "fa802d8e",
   "metadata": {},
   "source": [
    "###### As you can see all the null values have been taken care of \n",
    ",Now we will move on to Univariate and bivariate analysis through plotting graphs"
   ]
  },
  {
   "cell_type": "markdown",
   "id": "a848f759",
   "metadata": {},
   "source": [
    "# ANALYSIS"
   ]
  },
  {
   "cell_type": "markdown",
   "id": "cb49bf46",
   "metadata": {},
   "source": [
    "## Univariate"
   ]
  },
  {
   "cell_type": "markdown",
   "id": "ca20abc4",
   "metadata": {},
   "source": [
    "#### TOP 10 PRODUCTS INQUIRED BY PRODUCT_ID"
   ]
  },
  {
   "cell_type": "code",
   "execution_count": 173,
   "id": "3143e690",
   "metadata": {},
   "outputs": [
    {
     "data": {
      "image/png": "[encoded data removed]",
      "text/plain": [
       "<Figure size 1080x1080 with 1 Axes>"
      ]
     },
     "metadata": {
      "needs_background": "light"
     },
     "output_type": "display_data"
    }
   ],
   "source": [
    "dtf.Product_ID.value_counts().nlargest(10).plot(kind = \"bar\",figsize = (15,15),color = \"Orange\")\n",
    "plt.title(\"TOP 10 PRODUCTS\")\n",
    "plt.xlabel(\"PRODUCT IDs\")\n",
    "plt.ylabel(\"Number of inquiries\")\n",
    "plt.show()"
   ]
  },
  {
   "cell_type": "markdown",
   "id": "f6f7329b",
   "metadata": {},
   "source": [
    "#above graph shows top 10 products which were inquired for by the callers with ,Product_ID 148 being inquired the highest for more than 14000 times,and, Product_ID 142 being inquired minimum for close to 2000 times among the TOP10"
   ]
  },
  {
   "cell_type": "markdown",
   "id": "95a15ff5",
   "metadata": {},
   "source": [
    "#### SALES ANALYSIS PLOT"
   ]
  },
  {
   "cell_type": "code",
   "execution_count": 174,
   "id": "6b3f36b4",
   "metadata": {},
   "outputs": [
    {
     "data": {
      "text/plain": [
       "<AxesSubplot:xlabel='Sale', ylabel='count'>"
      ]
     },
     "execution_count": 174,
     "metadata": {},
     "output_type": "execute_result"
    },
    {
     "data": {
      "image/png": "[encoded data removed]",
      "text/plain": [
       "<Figure size 1080x720 with 1 Axes>"
      ]
     },
     "metadata": {
      "needs_background": "light"
     },
     "output_type": "display_data"
    }
   ],
   "source": [
    "sns.countplot(x = \"Sale\",data = dtf)"
   ]
  },
  {
   "cell_type": "markdown",
   "id": "95e13098",
   "metadata": {},
   "source": [
    "#Above plot shows that more than 80% of sale's are false and only less than 10% sales have been made or are True by the employees"
   ]
  },
  {
   "cell_type": "markdown",
   "id": "0ce5ca20",
   "metadata": {},
   "source": [
    "#### GENDER COUNTPLOT"
   ]
  },
  {
   "cell_type": "code",
   "execution_count": 213,
   "id": "edcdefb3",
   "metadata": {},
   "outputs": [
    {
     "data": {
      "text/plain": [
       "<AxesSubplot:xlabel='Gender', ylabel='count'>"
      ]
     },
     "execution_count": 213,
     "metadata": {},
     "output_type": "execute_result"
    },
    {
     "data": {
      "image/png": "[encoded data removed]",
      "text/plain": [
       "<Figure size 1080x720 with 1 Axes>"
      ]
     },
     "metadata": {
      "needs_background": "light"
     },
     "output_type": "display_data"
    }
   ],
   "source": [
    "sns.countplot(x=\"Gender\",data = dtf)"
   ]
  },
  {
   "cell_type": "markdown",
   "id": "c40bb72b",
   "metadata": {},
   "source": [
    "#### EMPLOYEE AGE RANGE"
   ]
  },
  {
   "cell_type": "code",
   "execution_count": 175,
   "id": "f739bc9e",
   "metadata": {},
   "outputs": [
    {
     "data": {
      "text/plain": [
       "array([[<AxesSubplot:title={'center':'Age'}>]], dtype=object)"
      ]
     },
     "execution_count": 175,
     "metadata": {},
     "output_type": "execute_result"
    },
    {
     "data": {
      "image/png": "[encoded data removed]",
      "text/plain": [
       "<Figure size 720x720 with 1 Axes>"
      ]
     },
     "metadata": {
      "needs_background": "light"
     },
     "output_type": "display_data"
    }
   ],
   "source": [
    " dtf.hist(column = \"Age\",bins = 10,color = \"Lightblue\",figsize = (10,10))"
   ]
  },
  {
   "cell_type": "markdown",
   "id": "74acb306",
   "metadata": {},
   "source": [
    "#Above graph shows the age of employees who work and their frequencies, ranging from age 25-80 , with 75-80 age group being the highest"
   ]
  },
  {
   "cell_type": "markdown",
   "id": "2433695a",
   "metadata": {},
   "source": [
    "#### CALL_COUNT HISTOGRAM"
   ]
  },
  {
   "cell_type": "code",
   "execution_count": 176,
   "id": "58428c36",
   "metadata": {},
   "outputs": [
    {
     "data": {
      "image/png": "[encoded data removed]",
      "text/plain": [
       "<Figure size 1080x720 with 1 Axes>"
      ]
     },
     "metadata": {
      "needs_background": "light"
     },
     "output_type": "display_data"
    }
   ],
   "source": [
    "dtf.hist(column = \"Call_Count\",bins = 10,color = \"Orange\")\n",
    "plt.show()"
   ]
  },
  {
   "cell_type": "markdown",
   "id": "75e66fec",
   "metadata": {},
   "source": [
    "#Above graph shows that on an average employee attends call from a Call_ID 3.6times for an inquiry"
   ]
  },
  {
   "cell_type": "markdown",
   "id": "820e37fa",
   "metadata": {},
   "source": [
    "### BIVARIATE"
   ]
  },
  {
   "cell_type": "code",
   "execution_count": 196,
   "id": "8dacf6db",
   "metadata": {},
   "outputs": [
    {
     "data": {
      "text/html": [
       "<div>\n",
       "<style scoped>\n",
       "    .dataframe tbody tr th:only-of-type {\n",
       "        vertical-align: middle;\n",
       "    }\n",
       "\n",
       "    .dataframe tbody tr th {\n",
       "        vertical-align: top;\n",
       "    }\n",
       "\n",
       "    .dataframe thead th {\n",
       "        text-align: right;\n",
       "    }\n",
       "</style>\n",
       "<table border=\"1\" class=\"dataframe\">\n",
       "  <thead>\n",
       "    <tr style=\"text-align: right;\">\n",
       "      <th></th>\n",
       "      <th>Call_ID</th>\n",
       "      <th>Sale</th>\n",
       "      <th>Age</th>\n",
       "      <th>Product_ID</th>\n",
       "      <th>Timezone</th>\n",
       "      <th>Phone_code</th>\n",
       "      <th>Call_Count</th>\n",
       "    </tr>\n",
       "  </thead>\n",
       "  <tbody>\n",
       "    <tr>\n",
       "      <th>Call_ID</th>\n",
       "      <td>1.000000</td>\n",
       "      <td>0.014006</td>\n",
       "      <td>0.001168</td>\n",
       "      <td>0.991774</td>\n",
       "      <td>-0.003940</td>\n",
       "      <td>NaN</td>\n",
       "      <td>-0.409165</td>\n",
       "    </tr>\n",
       "    <tr>\n",
       "      <th>Sale</th>\n",
       "      <td>0.014006</td>\n",
       "      <td>1.000000</td>\n",
       "      <td>-0.002776</td>\n",
       "      <td>0.013696</td>\n",
       "      <td>-0.023880</td>\n",
       "      <td>NaN</td>\n",
       "      <td>-0.045425</td>\n",
       "    </tr>\n",
       "    <tr>\n",
       "      <th>Age</th>\n",
       "      <td>0.001168</td>\n",
       "      <td>-0.002776</td>\n",
       "      <td>1.000000</td>\n",
       "      <td>0.001311</td>\n",
       "      <td>-0.005741</td>\n",
       "      <td>NaN</td>\n",
       "      <td>-0.002717</td>\n",
       "    </tr>\n",
       "    <tr>\n",
       "      <th>Product_ID</th>\n",
       "      <td>0.991774</td>\n",
       "      <td>0.013696</td>\n",
       "      <td>0.001311</td>\n",
       "      <td>1.000000</td>\n",
       "      <td>0.000345</td>\n",
       "      <td>NaN</td>\n",
       "      <td>-0.404382</td>\n",
       "    </tr>\n",
       "    <tr>\n",
       "      <th>Timezone</th>\n",
       "      <td>-0.003940</td>\n",
       "      <td>-0.023880</td>\n",
       "      <td>-0.005741</td>\n",
       "      <td>0.000345</td>\n",
       "      <td>1.000000</td>\n",
       "      <td>NaN</td>\n",
       "      <td>0.007872</td>\n",
       "    </tr>\n",
       "    <tr>\n",
       "      <th>Phone_code</th>\n",
       "      <td>NaN</td>\n",
       "      <td>NaN</td>\n",
       "      <td>NaN</td>\n",
       "      <td>NaN</td>\n",
       "      <td>NaN</td>\n",
       "      <td>NaN</td>\n",
       "      <td>NaN</td>\n",
       "    </tr>\n",
       "    <tr>\n",
       "      <th>Call_Count</th>\n",
       "      <td>-0.409165</td>\n",
       "      <td>-0.045425</td>\n",
       "      <td>-0.002717</td>\n",
       "      <td>-0.404382</td>\n",
       "      <td>0.007872</td>\n",
       "      <td>NaN</td>\n",
       "      <td>1.000000</td>\n",
       "    </tr>\n",
       "  </tbody>\n",
       "</table>\n",
       "</div>"
      ],
      "text/plain": [
       "             Call_ID      Sale       Age  Product_ID  Timezone  Phone_code  \\\n",
       "Call_ID     1.000000  0.014006  0.001168    0.991774 -0.003940         NaN   \n",
       "Sale        0.014006  1.000000 -0.002776    0.013696 -0.023880         NaN   \n",
       "Age         0.001168 -0.002776  1.000000    0.001311 -0.005741         NaN   \n",
       "Product_ID  0.991774  0.013696  0.001311    1.000000  0.000345         NaN   \n",
       "Timezone   -0.003940 -0.023880 -0.005741    0.000345  1.000000         NaN   \n",
       "Phone_code       NaN       NaN       NaN         NaN       NaN         NaN   \n",
       "Call_Count -0.409165 -0.045425 -0.002717   -0.404382  0.007872         NaN   \n",
       "\n",
       "            Call_Count  \n",
       "Call_ID      -0.409165  \n",
       "Sale         -0.045425  \n",
       "Age          -0.002717  \n",
       "Product_ID   -0.404382  \n",
       "Timezone      0.007872  \n",
       "Phone_code         NaN  \n",
       "Call_Count    1.000000  "
      ]
     },
     "execution_count": 196,
     "metadata": {},
     "output_type": "execute_result"
    }
   ],
   "source": [
    "crr1 = dtf.corr()\n",
    "crr1"
   ]
  },
  {
   "cell_type": "markdown",
   "id": "a195cd37",
   "metadata": {},
   "source": [
    "#correlation between the columns"
   ]
  },
  {
   "cell_type": "markdown",
   "id": "5187ae85",
   "metadata": {},
   "source": [
    "###### HEATMAP CORRELATION"
   ]
  },
  {
   "cell_type": "code",
   "execution_count": 203,
   "id": "641f8a56",
   "metadata": {},
   "outputs": [
    {
     "data": {
      "text/plain": [
       "<AxesSubplot:>"
      ]
     },
     "execution_count": 203,
     "metadata": {},
     "output_type": "execute_result"
    },
    {
     "data": {
      "image/png": "[encoded data removed]",
      "text/plain": [
       "<Figure size 1080x720 with 2 Axes>"
      ]
     },
     "metadata": {
      "needs_background": "light"
     },
     "output_type": "display_data"
    }
   ],
   "source": [
    "plt.rcParams['figure.figsize']=(15,10)\n",
    "sns.heatmap(crr1,annot =True)"
   ]
  },
  {
   "cell_type": "markdown",
   "id": "20895b37",
   "metadata": {},
   "source": [
    "###### CALL_ID AND PRODUCT_ID ,HUE = \"SALE\""
   ]
  },
  {
   "cell_type": "code",
   "execution_count": 77,
   "id": "6c540a65",
   "metadata": {},
   "outputs": [
    {
     "data": {
      "text/plain": [
       "<seaborn.axisgrid.FacetGrid at 0x220c5268>"
      ]
     },
     "execution_count": 77,
     "metadata": {},
     "output_type": "execute_result"
    },
    {
     "data": {
      "image/png": "[encoded data removed]",
      "text/plain": [
       "<Figure size 421.25x360 with 1 Axes>"
      ]
     },
     "metadata": {
      "needs_background": "light"
     },
     "output_type": "display_data"
    }
   ],
   "source": [
    "sns.lmplot(\"Call_ID\",\"Product_ID\",dtf,hue = \"Sale\",fit_reg=False)"
   ]
  },
  {
   "cell_type": "markdown",
   "id": "d9cad894",
   "metadata": {},
   "source": [
    "###### GROUP BY PRODUCT; NUMBER OF SALES BY PRODUCT_ID"
   ]
  },
  {
   "cell_type": "code",
   "execution_count": 80,
   "id": "20043488",
   "metadata": {},
   "outputs": [
    {
     "data": {
      "image/png": "[encoded data removed]",
      "text/plain": [
       "<Figure size 1080x720 with 1 Axes>"
      ]
     },
     "metadata": {
      "needs_background": "light"
     },
     "output_type": "display_data"
    }
   ],
   "source": [
    "dtf.groupby(\"Product_ID\")[\"Sale\"].value_counts().plot(kind = \"bar\",color = \"Lightblue\")\n",
    "plt.title(\"No.of.Sales by Products\")\n",
    "plt.ylabel('Sale')\n",
    "plt.xlabel('Product_ID');"
   ]
  },
  {
   "cell_type": "markdown",
   "id": "080f9ce9",
   "metadata": {},
   "source": [
    "#above graph indicates Positive/Negative sales in accordance to Product_ID, with a high frequency of False sales(No sales made),and Product_ID 148 Having Maximum of True Sales(Sales made)"
   ]
  },
  {
   "cell_type": "markdown",
   "id": "1e79bea3",
   "metadata": {},
   "source": [
    "###### VIOLIN PLOT OF MALE AND FEMALE "
   ]
  },
  {
   "cell_type": "code",
   "execution_count": 214,
   "id": "ad108260",
   "metadata": {},
   "outputs": [
    {
     "data": {
      "text/plain": [
       "<AxesSubplot:xlabel='Sale', ylabel='Gender'>"
      ]
     },
     "execution_count": 214,
     "metadata": {},
     "output_type": "execute_result"
    },
    {
     "data": {
      "image/png": "[encoded data removed]",
      "text/plain": [
       "<Figure size 1080x720 with 1 Axes>"
      ]
     },
     "metadata": {
      "needs_background": "light"
     },
     "output_type": "display_data"
    }
   ],
   "source": [
    "sns.violinplot(x=\"Sale\", y=\"Gender\", data=dtf,palette='rocket')"
   ]
  },
  {
   "cell_type": "markdown",
   "id": "e74c39c9",
   "metadata": {},
   "source": [
    "Above graph indicates sales performance by gender"
   ]
  },
  {
   "cell_type": "code",
   "execution_count": null,
   "id": "392ecb0f",
   "metadata": {},
   "outputs": [],
   "source": []
  }
 ],
 "metadata": {
  "kernelspec": {
   "display_name": "Python 3",
   "language": "python",
   "name": "python3"
  },
  "language_info": {
   "codemirror_mode": {
    "name": "ipython",
    "version": 3
   },
   "file_extension": ".py",
   "mimetype": "text/x-python",
   "name": "python",
   "nbconvert_exporter": "python",
   "pygments_lexer": "ipython3",
   "version": "3.8.8"
  }
 },
 "nbformat": 4,
 "nbformat_minor": 5
}
