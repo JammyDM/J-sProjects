{
 "cells": [
  {
   "cell_type": "code",
   "execution_count": 10,
   "id": "026061e8",
   "metadata": {},
   "outputs": [],
   "source": [
    "import pandas as pd\n",
    "import numpy as np\n",
    "import matplotlib.pyplot as plt\n",
    "import seaborn as sns\n",
    "import warnings\n",
    "warnings.filterwarnings(\"ignore\")"
   ]
  },
  {
   "cell_type": "code",
   "execution_count": 11,
   "id": "7543c678",
   "metadata": {},
   "outputs": [
    {
     "name": "stdout",
     "output_type": "stream",
     "text": [
      "C:\\Users\\Jammy\\OneDrive\\Desktop\\Data analysis PDFs\\ML\\Projects for Analysis\\CreditCardinfo\\CreditCard\n"
     ]
    }
   ],
   "source": [
    "cd C:\\Users\\Jammy\\OneDrive\\Desktop\\Data analysis PDFs\\ML\\Projects for Analysis\\CreditCardinfo\\CreditCard"
   ]
  },
  {
   "cell_type": "code",
   "execution_count": 12,
   "id": "b9f8d981",
   "metadata": {},
   "outputs": [],
   "source": [
    "ccd = pd.read_csv(\"creditcard.csv\")"
   ]
  },
  {
   "cell_type": "code",
   "execution_count": 13,
   "id": "423b8477",
   "metadata": {},
   "outputs": [
    {
     "name": "stdout",
     "output_type": "stream",
     "text": [
      "<class 'pandas.core.frame.DataFrame'>\n",
      "RangeIndex: 284807 entries, 0 to 284806\n",
      "Data columns (total 31 columns):\n",
      " #   Column  Non-Null Count   Dtype  \n",
      "---  ------  --------------   -----  \n",
      " 0   Time    284807 non-null  float64\n",
      " 1   V1      284807 non-null  float64\n",
      " 2   V2      284807 non-null  float64\n",
      " 3   V3      284807 non-null  float64\n",
      " 4   V4      284807 non-null  float64\n",
      " 5   V5      284807 non-null  float64\n",
      " 6   V6      284807 non-null  float64\n",
      " 7   V7      284807 non-null  float64\n",
      " 8   V8      284807 non-null  float64\n",
      " 9   V9      284807 non-null  float64\n",
      " 10  V10     284807 non-null  float64\n",
      " 11  V11     284807 non-null  float64\n",
      " 12  V12     284807 non-null  float64\n",
      " 13  V13     284807 non-null  float64\n",
      " 14  V14     284807 non-null  float64\n",
      " 15  V15     284807 non-null  float64\n",
      " 16  V16     284807 non-null  float64\n",
      " 17  V17     284807 non-null  float64\n",
      " 18  V18     284807 non-null  float64\n",
      " 19  V19     284807 non-null  float64\n",
      " 20  V20     284807 non-null  float64\n",
      " 21  V21     284807 non-null  float64\n",
      " 22  V22     284807 non-null  float64\n",
      " 23  V23     284807 non-null  float64\n",
      " 24  V24     284807 non-null  float64\n",
      " 25  V25     284807 non-null  float64\n",
      " 26  V26     284807 non-null  float64\n",
      " 27  V27     284807 non-null  float64\n",
      " 28  V28     284807 non-null  float64\n",
      " 29  Amount  284807 non-null  float64\n",
      " 30  Class   284807 non-null  int64  \n",
      "dtypes: float64(30), int64(1)\n",
      "memory usage: 67.4 MB\n"
     ]
    }
   ],
   "source": [
    "ccd.info()"
   ]
  },
  {
   "cell_type": "code",
   "execution_count": 14,
   "id": "a7917efd",
   "metadata": {},
   "outputs": [
    {
     "data": {
      "text/plain": [
       "Time      0\n",
       "V1        0\n",
       "V2        0\n",
       "V3        0\n",
       "V4        0\n",
       "V5        0\n",
       "V6        0\n",
       "V7        0\n",
       "V8        0\n",
       "V9        0\n",
       "V10       0\n",
       "V11       0\n",
       "V12       0\n",
       "V13       0\n",
       "V14       0\n",
       "V15       0\n",
       "V16       0\n",
       "V17       0\n",
       "V18       0\n",
       "V19       0\n",
       "V20       0\n",
       "V21       0\n",
       "V22       0\n",
       "V23       0\n",
       "V24       0\n",
       "V25       0\n",
       "V26       0\n",
       "V27       0\n",
       "V28       0\n",
       "Amount    0\n",
       "Class     0\n",
       "dtype: int64"
      ]
     },
     "execution_count": 14,
     "metadata": {},
     "output_type": "execute_result"
    }
   ],
   "source": [
    "ccd.isnull().sum()"
   ]
  },
  {
   "cell_type": "code",
   "execution_count": 15,
   "id": "ce1a04d3",
   "metadata": {},
   "outputs": [
    {
     "data": {
      "text/plain": [
       "0    284315\n",
       "1       492\n",
       "Name: Class, dtype: int64"
      ]
     },
     "execution_count": 15,
     "metadata": {},
     "output_type": "execute_result"
    }
   ],
   "source": [
    "ccd.Class.value_counts()"
   ]
  },
  {
   "cell_type": "markdown",
   "id": "5a8f97a8",
   "metadata": {},
   "source": [
    "#UNBALANCED DATASET"
   ]
  },
  {
   "cell_type": "markdown",
   "id": "3b9386cf",
   "metadata": {},
   "source": [
    "###### 0 = Normal Transaction\n"
   ]
  },
  {
   "cell_type": "markdown",
   "id": "cf3ae3eb",
   "metadata": {},
   "source": [
    "###### 1 = Fraudulant Transaction"
   ]
  },
  {
   "cell_type": "markdown",
   "id": "2d847d68",
   "metadata": {},
   "source": [
    "Separating Fradulant and Normal Transactions"
   ]
  },
  {
   "cell_type": "code",
   "execution_count": 17,
   "id": "d9cbfb68",
   "metadata": {},
   "outputs": [],
   "source": [
    "legit = ccd[ccd.Class == 0]\n",
    "Fraud = ccd[ccd.Class == 1]"
   ]
  },
  {
   "cell_type": "code",
   "execution_count": 18,
   "id": "278de52f",
   "metadata": {},
   "outputs": [
    {
     "data": {
      "text/plain": [
       "(284315, 31)"
      ]
     },
     "execution_count": 18,
     "metadata": {},
     "output_type": "execute_result"
    }
   ],
   "source": [
    "legit.shape"
   ]
  },
  {
   "cell_type": "code",
   "execution_count": 19,
   "id": "6e2bd91a",
   "metadata": {},
   "outputs": [
    {
     "data": {
      "text/plain": [
       "(492, 31)"
      ]
     },
     "execution_count": 19,
     "metadata": {},
     "output_type": "execute_result"
    }
   ],
   "source": [
    "Fraud.shape"
   ]
  },
  {
   "cell_type": "markdown",
   "id": "4ce83a61",
   "metadata": {},
   "source": [
    "### Amount Column"
   ]
  },
  {
   "cell_type": "code",
   "execution_count": 21,
   "id": "36d49c64",
   "metadata": {},
   "outputs": [
    {
     "data": {
      "text/plain": [
       "count    284315.000000\n",
       "mean         88.291022\n",
       "std         250.105092\n",
       "min           0.000000\n",
       "25%           5.650000\n",
       "50%          22.000000\n",
       "75%          77.050000\n",
       "max       25691.160000\n",
       "Name: Amount, dtype: float64"
      ]
     },
     "execution_count": 21,
     "metadata": {},
     "output_type": "execute_result"
    }
   ],
   "source": [
    "legit.Amount.describe()"
   ]
  },
  {
   "cell_type": "code",
   "execution_count": 23,
   "id": "8af349b0",
   "metadata": {},
   "outputs": [
    {
     "data": {
      "text/plain": [
       "count     492.000000\n",
       "mean      122.211321\n",
       "std       256.683288\n",
       "min         0.000000\n",
       "25%         1.000000\n",
       "50%         9.250000\n",
       "75%       105.890000\n",
       "max      2125.870000\n",
       "Name: Amount, dtype: float64"
      ]
     },
     "execution_count": 23,
     "metadata": {},
     "output_type": "execute_result"
    }
   ],
   "source": [
    "Fraud.Amount.describe()"
   ]
  },
  {
   "cell_type": "markdown",
   "id": "c8da53ca",
   "metadata": {},
   "source": [
    "###### Under Sampling\n"
   ]
  },
  {
   "cell_type": "markdown",
   "id": "2c7a2d5d",
   "metadata": {},
   "source": [
    "Building a sample dataset containing similar distribution of normal transaction and Fradulant Transactions\n"
   ]
  },
  {
   "cell_type": "markdown",
   "id": "a7fb6952",
   "metadata": {},
   "source": [
    "Number of Fradulant Transactions"
   ]
  },
  {
   "cell_type": "markdown",
   "id": "8a4ae179",
   "metadata": {},
   "source": [
    "Using Function Sample"
   ]
  },
  {
   "cell_type": "code",
   "execution_count": 24,
   "id": "fc12d86a",
   "metadata": {},
   "outputs": [],
   "source": [
    "legit_sample = legit.sample(n = 492)"
   ]
  },
  {
   "cell_type": "markdown",
   "id": "0e0fad4f",
   "metadata": {},
   "source": [
    "#### Concating Two Dataframes"
   ]
  },
  {
   "cell_type": "code",
   "execution_count": 25,
   "id": "6287bab2",
   "metadata": {},
   "outputs": [],
   "source": [
    "new_ccd = pd.concat([legit_sample,Fraud],axis = 0)"
   ]
  },
  {
   "cell_type": "code",
   "execution_count": 26,
   "id": "e04dc06a",
   "metadata": {},
   "outputs": [
    {
     "data": {
      "text/html": [
       "<div>\n",
       "<style scoped>\n",
       "    .dataframe tbody tr th:only-of-type {\n",
       "        vertical-align: middle;\n",
       "    }\n",
       "\n",
       "    .dataframe tbody tr th {\n",
       "        vertical-align: top;\n",
       "    }\n",
       "\n",
       "    .dataframe thead th {\n",
       "        text-align: right;\n",
       "    }\n",
       "</style>\n",
       "<table border=\"1\" class=\"dataframe\">\n",
       "  <thead>\n",
       "    <tr style=\"text-align: right;\">\n",
       "      <th></th>\n",
       "      <th>Time</th>\n",
       "      <th>V1</th>\n",
       "      <th>V2</th>\n",
       "      <th>V3</th>\n",
       "      <th>V4</th>\n",
       "      <th>V5</th>\n",
       "      <th>V6</th>\n",
       "      <th>V7</th>\n",
       "      <th>V8</th>\n",
       "      <th>V9</th>\n",
       "      <th>...</th>\n",
       "      <th>V21</th>\n",
       "      <th>V22</th>\n",
       "      <th>V23</th>\n",
       "      <th>V24</th>\n",
       "      <th>V25</th>\n",
       "      <th>V26</th>\n",
       "      <th>V27</th>\n",
       "      <th>V28</th>\n",
       "      <th>Amount</th>\n",
       "      <th>Class</th>\n",
       "    </tr>\n",
       "  </thead>\n",
       "  <tbody>\n",
       "    <tr>\n",
       "      <th>42396</th>\n",
       "      <td>41088.0</td>\n",
       "      <td>0.911781</td>\n",
       "      <td>-0.774959</td>\n",
       "      <td>-1.719233</td>\n",
       "      <td>-0.322833</td>\n",
       "      <td>2.000356</td>\n",
       "      <td>3.325187</td>\n",
       "      <td>-0.053315</td>\n",
       "      <td>0.679434</td>\n",
       "      <td>0.014287</td>\n",
       "      <td>...</td>\n",
       "      <td>0.011056</td>\n",
       "      <td>-0.460945</td>\n",
       "      <td>-0.336746</td>\n",
       "      <td>1.076030</td>\n",
       "      <td>0.742063</td>\n",
       "      <td>0.546704</td>\n",
       "      <td>-0.091829</td>\n",
       "      <td>0.032190</td>\n",
       "      <td>221.00</td>\n",
       "      <td>0</td>\n",
       "    </tr>\n",
       "    <tr>\n",
       "      <th>102457</th>\n",
       "      <td>68212.0</td>\n",
       "      <td>1.487021</td>\n",
       "      <td>-1.072903</td>\n",
       "      <td>0.305312</td>\n",
       "      <td>-1.504080</td>\n",
       "      <td>-1.395459</td>\n",
       "      <td>-0.524906</td>\n",
       "      <td>-1.055509</td>\n",
       "      <td>-0.046381</td>\n",
       "      <td>-1.985370</td>\n",
       "      <td>...</td>\n",
       "      <td>-0.187902</td>\n",
       "      <td>-0.228225</td>\n",
       "      <td>-0.015631</td>\n",
       "      <td>-0.024618</td>\n",
       "      <td>0.376967</td>\n",
       "      <td>-0.202395</td>\n",
       "      <td>0.020213</td>\n",
       "      <td>0.007298</td>\n",
       "      <td>20.00</td>\n",
       "      <td>0</td>\n",
       "    </tr>\n",
       "    <tr>\n",
       "      <th>69947</th>\n",
       "      <td>53646.0</td>\n",
       "      <td>-0.650173</td>\n",
       "      <td>0.736901</td>\n",
       "      <td>-1.236481</td>\n",
       "      <td>0.254904</td>\n",
       "      <td>1.948636</td>\n",
       "      <td>3.768077</td>\n",
       "      <td>0.405038</td>\n",
       "      <td>1.243146</td>\n",
       "      <td>-0.769204</td>\n",
       "      <td>...</td>\n",
       "      <td>0.152945</td>\n",
       "      <td>0.220033</td>\n",
       "      <td>0.251492</td>\n",
       "      <td>1.004421</td>\n",
       "      <td>-0.172559</td>\n",
       "      <td>-0.249395</td>\n",
       "      <td>0.291609</td>\n",
       "      <td>0.202075</td>\n",
       "      <td>153.88</td>\n",
       "      <td>0</td>\n",
       "    </tr>\n",
       "    <tr>\n",
       "      <th>202122</th>\n",
       "      <td>134181.0</td>\n",
       "      <td>0.149986</td>\n",
       "      <td>0.170176</td>\n",
       "      <td>-0.454786</td>\n",
       "      <td>-2.583153</td>\n",
       "      <td>0.671555</td>\n",
       "      <td>-0.633868</td>\n",
       "      <td>0.772609</td>\n",
       "      <td>-0.395526</td>\n",
       "      <td>-0.612892</td>\n",
       "      <td>...</td>\n",
       "      <td>0.444185</td>\n",
       "      <td>1.421609</td>\n",
       "      <td>-0.222909</td>\n",
       "      <td>0.102208</td>\n",
       "      <td>-0.673259</td>\n",
       "      <td>-0.238730</td>\n",
       "      <td>0.153517</td>\n",
       "      <td>0.070700</td>\n",
       "      <td>15.00</td>\n",
       "      <td>0</td>\n",
       "    </tr>\n",
       "    <tr>\n",
       "      <th>173153</th>\n",
       "      <td>121368.0</td>\n",
       "      <td>2.283598</td>\n",
       "      <td>-0.789613</td>\n",
       "      <td>-1.557527</td>\n",
       "      <td>-1.042386</td>\n",
       "      <td>-0.250553</td>\n",
       "      <td>-0.649008</td>\n",
       "      <td>-0.459353</td>\n",
       "      <td>-0.199400</td>\n",
       "      <td>-0.117034</td>\n",
       "      <td>...</td>\n",
       "      <td>-0.152602</td>\n",
       "      <td>-0.444221</td>\n",
       "      <td>0.182455</td>\n",
       "      <td>-1.107799</td>\n",
       "      <td>-0.093381</td>\n",
       "      <td>-0.333035</td>\n",
       "      <td>-0.034150</td>\n",
       "      <td>-0.072069</td>\n",
       "      <td>4.95</td>\n",
       "      <td>0</td>\n",
       "    </tr>\n",
       "  </tbody>\n",
       "</table>\n",
       "<p>5 rows × 31 columns</p>\n",
       "</div>"
      ],
      "text/plain": [
       "            Time        V1        V2        V3        V4        V5        V6  \\\n",
       "42396    41088.0  0.911781 -0.774959 -1.719233 -0.322833  2.000356  3.325187   \n",
       "102457   68212.0  1.487021 -1.072903  0.305312 -1.504080 -1.395459 -0.524906   \n",
       "69947    53646.0 -0.650173  0.736901 -1.236481  0.254904  1.948636  3.768077   \n",
       "202122  134181.0  0.149986  0.170176 -0.454786 -2.583153  0.671555 -0.633868   \n",
       "173153  121368.0  2.283598 -0.789613 -1.557527 -1.042386 -0.250553 -0.649008   \n",
       "\n",
       "              V7        V8        V9  ...       V21       V22       V23  \\\n",
       "42396  -0.053315  0.679434  0.014287  ...  0.011056 -0.460945 -0.336746   \n",
       "102457 -1.055509 -0.046381 -1.985370  ... -0.187902 -0.228225 -0.015631   \n",
       "69947   0.405038  1.243146 -0.769204  ...  0.152945  0.220033  0.251492   \n",
       "202122  0.772609 -0.395526 -0.612892  ...  0.444185  1.421609 -0.222909   \n",
       "173153 -0.459353 -0.199400 -0.117034  ... -0.152602 -0.444221  0.182455   \n",
       "\n",
       "             V24       V25       V26       V27       V28  Amount  Class  \n",
       "42396   1.076030  0.742063  0.546704 -0.091829  0.032190  221.00      0  \n",
       "102457 -0.024618  0.376967 -0.202395  0.020213  0.007298   20.00      0  \n",
       "69947   1.004421 -0.172559 -0.249395  0.291609  0.202075  153.88      0  \n",
       "202122  0.102208 -0.673259 -0.238730  0.153517  0.070700   15.00      0  \n",
       "173153 -1.107799 -0.093381 -0.333035 -0.034150 -0.072069    4.95      0  \n",
       "\n",
       "[5 rows x 31 columns]"
      ]
     },
     "execution_count": 26,
     "metadata": {},
     "output_type": "execute_result"
    }
   ],
   "source": [
    "new_ccd.head()"
   ]
  },
  {
   "cell_type": "code",
   "execution_count": 27,
   "id": "7e084132",
   "metadata": {},
   "outputs": [
    {
     "data": {
      "text/plain": [
       "0    492\n",
       "1    492\n",
       "Name: Class, dtype: int64"
      ]
     },
     "execution_count": 27,
     "metadata": {},
     "output_type": "execute_result"
    }
   ],
   "source": [
    "new_ccd.Class.value_counts()"
   ]
  },
  {
   "cell_type": "code",
   "execution_count": 28,
   "id": "6bc73279",
   "metadata": {},
   "outputs": [
    {
     "data": {
      "text/html": [
       "<div>\n",
       "<style scoped>\n",
       "    .dataframe tbody tr th:only-of-type {\n",
       "        vertical-align: middle;\n",
       "    }\n",
       "\n",
       "    .dataframe tbody tr th {\n",
       "        vertical-align: top;\n",
       "    }\n",
       "\n",
       "    .dataframe thead th {\n",
       "        text-align: right;\n",
       "    }\n",
       "</style>\n",
       "<table border=\"1\" class=\"dataframe\">\n",
       "  <thead>\n",
       "    <tr style=\"text-align: right;\">\n",
       "      <th></th>\n",
       "      <th>Time</th>\n",
       "      <th>V1</th>\n",
       "      <th>V2</th>\n",
       "      <th>V3</th>\n",
       "      <th>V4</th>\n",
       "      <th>V5</th>\n",
       "      <th>V6</th>\n",
       "      <th>V7</th>\n",
       "      <th>V8</th>\n",
       "      <th>V9</th>\n",
       "      <th>...</th>\n",
       "      <th>V20</th>\n",
       "      <th>V21</th>\n",
       "      <th>V22</th>\n",
       "      <th>V23</th>\n",
       "      <th>V24</th>\n",
       "      <th>V25</th>\n",
       "      <th>V26</th>\n",
       "      <th>V27</th>\n",
       "      <th>V28</th>\n",
       "      <th>Amount</th>\n",
       "    </tr>\n",
       "    <tr>\n",
       "      <th>Class</th>\n",
       "      <th></th>\n",
       "      <th></th>\n",
       "      <th></th>\n",
       "      <th></th>\n",
       "      <th></th>\n",
       "      <th></th>\n",
       "      <th></th>\n",
       "      <th></th>\n",
       "      <th></th>\n",
       "      <th></th>\n",
       "      <th></th>\n",
       "      <th></th>\n",
       "      <th></th>\n",
       "      <th></th>\n",
       "      <th></th>\n",
       "      <th></th>\n",
       "      <th></th>\n",
       "      <th></th>\n",
       "      <th></th>\n",
       "      <th></th>\n",
       "      <th></th>\n",
       "    </tr>\n",
       "  </thead>\n",
       "  <tbody>\n",
       "    <tr>\n",
       "      <th>0</th>\n",
       "      <td>94165.329268</td>\n",
       "      <td>-0.030780</td>\n",
       "      <td>-0.027662</td>\n",
       "      <td>0.004786</td>\n",
       "      <td>-0.005939</td>\n",
       "      <td>0.094628</td>\n",
       "      <td>-0.022418</td>\n",
       "      <td>0.008827</td>\n",
       "      <td>-0.021048</td>\n",
       "      <td>-0.065740</td>\n",
       "      <td>...</td>\n",
       "      <td>0.018650</td>\n",
       "      <td>-0.016777</td>\n",
       "      <td>0.008498</td>\n",
       "      <td>0.003096</td>\n",
       "      <td>-0.037117</td>\n",
       "      <td>-0.017012</td>\n",
       "      <td>0.045554</td>\n",
       "      <td>0.006294</td>\n",
       "      <td>0.011240</td>\n",
       "      <td>86.488374</td>\n",
       "    </tr>\n",
       "    <tr>\n",
       "      <th>1</th>\n",
       "      <td>80746.806911</td>\n",
       "      <td>-4.771948</td>\n",
       "      <td>3.623778</td>\n",
       "      <td>-7.033281</td>\n",
       "      <td>4.542029</td>\n",
       "      <td>-3.151225</td>\n",
       "      <td>-1.397737</td>\n",
       "      <td>-5.568731</td>\n",
       "      <td>0.570636</td>\n",
       "      <td>-2.581123</td>\n",
       "      <td>...</td>\n",
       "      <td>0.372319</td>\n",
       "      <td>0.713588</td>\n",
       "      <td>0.014049</td>\n",
       "      <td>-0.040308</td>\n",
       "      <td>-0.105130</td>\n",
       "      <td>0.041449</td>\n",
       "      <td>0.051648</td>\n",
       "      <td>0.170575</td>\n",
       "      <td>0.075667</td>\n",
       "      <td>122.211321</td>\n",
       "    </tr>\n",
       "  </tbody>\n",
       "</table>\n",
       "<p>2 rows × 30 columns</p>\n",
       "</div>"
      ],
      "text/plain": [
       "               Time        V1        V2        V3        V4        V5  \\\n",
       "Class                                                                   \n",
       "0      94165.329268 -0.030780 -0.027662  0.004786 -0.005939  0.094628   \n",
       "1      80746.806911 -4.771948  3.623778 -7.033281  4.542029 -3.151225   \n",
       "\n",
       "             V6        V7        V8        V9  ...       V20       V21  \\\n",
       "Class                                          ...                       \n",
       "0     -0.022418  0.008827 -0.021048 -0.065740  ...  0.018650 -0.016777   \n",
       "1     -1.397737 -5.568731  0.570636 -2.581123  ...  0.372319  0.713588   \n",
       "\n",
       "            V22       V23       V24       V25       V26       V27       V28  \\\n",
       "Class                                                                         \n",
       "0      0.008498  0.003096 -0.037117 -0.017012  0.045554  0.006294  0.011240   \n",
       "1      0.014049 -0.040308 -0.105130  0.041449  0.051648  0.170575  0.075667   \n",
       "\n",
       "           Amount  \n",
       "Class              \n",
       "0       86.488374  \n",
       "1      122.211321  \n",
       "\n",
       "[2 rows x 30 columns]"
      ]
     },
     "execution_count": 28,
     "metadata": {},
     "output_type": "execute_result"
    }
   ],
   "source": [
    "new_ccd.groupby(\"Class\").mean()"
   ]
  },
  {
   "cell_type": "markdown",
   "id": "849efe9b",
   "metadata": {},
   "source": [
    "#### Splitting Dataset into independent and target columns"
   ]
  },
  {
   "cell_type": "code",
   "execution_count": 29,
   "id": "2200fdfe",
   "metadata": {},
   "outputs": [],
   "source": [
    "X = new_ccd.drop(\"Class\",axis = 1)\n",
    "Y = new_ccd.Class"
   ]
  },
  {
   "cell_type": "code",
   "execution_count": 30,
   "id": "691b1d55",
   "metadata": {},
   "outputs": [
    {
     "data": {
      "text/plain": [
       "(984, 30)"
      ]
     },
     "execution_count": 30,
     "metadata": {},
     "output_type": "execute_result"
    }
   ],
   "source": [
    "X.shape"
   ]
  },
  {
   "cell_type": "code",
   "execution_count": 31,
   "id": "8e315b83",
   "metadata": {},
   "outputs": [
    {
     "data": {
      "text/plain": [
       "(984,)"
      ]
     },
     "execution_count": 31,
     "metadata": {},
     "output_type": "execute_result"
    }
   ],
   "source": [
    "Y.shape"
   ]
  },
  {
   "cell_type": "code",
   "execution_count": 32,
   "id": "aff1c1c8",
   "metadata": {},
   "outputs": [],
   "source": [
    "from sklearn.model_selection import train_test_split\n",
    "X_train, X_test, Y_train, Y_test = train_test_split(X, Y, test_size = 0.2, random_state = 2)"
   ]
  },
  {
   "cell_type": "markdown",
   "id": "c668d595",
   "metadata": {},
   "source": [
    "#### ML Model "
   ]
  },
  {
   "cell_type": "code",
   "execution_count": 36,
   "id": "4db9f411",
   "metadata": {},
   "outputs": [],
   "source": [
    "from sklearn.linear_model import LogisticRegression\n",
    "model = LogisticRegression()"
   ]
  },
  {
   "cell_type": "code",
   "execution_count": 44,
   "id": "e84cfaf9",
   "metadata": {},
   "outputs": [
    {
     "data": {
      "text/plain": [
       "LogisticRegression()"
      ]
     },
     "execution_count": 44,
     "metadata": {},
     "output_type": "execute_result"
    }
   ],
   "source": [
    "model.fit(X_train,Y_train)"
   ]
  },
  {
   "cell_type": "markdown",
   "id": "76c31dab",
   "metadata": {},
   "source": [
    "###### Model Evaluation"
   ]
  },
  {
   "cell_type": "code",
   "execution_count": 45,
   "id": "18a70bc5",
   "metadata": {},
   "outputs": [],
   "source": [
    "from sklearn.metrics import accuracy_score"
   ]
  },
  {
   "cell_type": "code",
   "execution_count": 46,
   "id": "f678d321",
   "metadata": {},
   "outputs": [
    {
     "data": {
      "text/plain": [
       "0.9212198221092758"
      ]
     },
     "execution_count": 46,
     "metadata": {},
     "output_type": "execute_result"
    }
   ],
   "source": [
    "model.score(X_train,Y_train)"
   ]
  },
  {
   "cell_type": "code",
   "execution_count": 47,
   "id": "b6b0d1a5",
   "metadata": {},
   "outputs": [
    {
     "data": {
      "text/plain": [
       "0.9187817258883249"
      ]
     },
     "execution_count": 47,
     "metadata": {},
     "output_type": "execute_result"
    }
   ],
   "source": [
    "model.score(X_test,Y_test)"
   ]
  },
  {
   "cell_type": "markdown",
   "id": "464f65c0",
   "metadata": {},
   "source": [
    "###### Predictions"
   ]
  },
  {
   "cell_type": "code",
   "execution_count": 48,
   "id": "27efc936",
   "metadata": {},
   "outputs": [],
   "source": [
    "X_train_prediction = model.predict(X_train)"
   ]
  },
  {
   "cell_type": "code",
   "execution_count": 52,
   "id": "7e778e30",
   "metadata": {},
   "outputs": [
    {
     "data": {
      "text/plain": [
       "0.9212198221092758"
      ]
     },
     "execution_count": 52,
     "metadata": {},
     "output_type": "execute_result"
    }
   ],
   "source": [
    "accuracy_train = accuracy_score(X_train_prediction,Y_train)\n",
    "accuracy_train"
   ]
  },
  {
   "cell_type": "code",
   "execution_count": 53,
   "id": "6b42d692",
   "metadata": {},
   "outputs": [],
   "source": [
    "X_test_prediction = model.predict(X_test)"
   ]
  },
  {
   "cell_type": "code",
   "execution_count": 54,
   "id": "c24ee618",
   "metadata": {},
   "outputs": [
    {
     "data": {
      "text/plain": [
       "0.9187817258883249"
      ]
     },
     "execution_count": 54,
     "metadata": {},
     "output_type": "execute_result"
    }
   ],
   "source": [
    "accuracy_test = accuracy_score(X_test_prediction,Y_test)\n",
    "accuracy_test"
   ]
  },
  {
   "cell_type": "code",
   "execution_count": null,
   "id": "7e1f8d8c",
   "metadata": {},
   "outputs": [],
   "source": []
  }
 ],
 "metadata": {
  "kernelspec": {
   "display_name": "Python 3",
   "language": "python",
   "name": "python3"
  },
  "language_info": {
   "codemirror_mode": {
    "name": "ipython",
    "version": 3
   },
   "file_extension": ".py",
   "mimetype": "text/x-python",
   "name": "python",
   "nbconvert_exporter": "python",
   "pygments_lexer": "ipython3",
   "version": "3.8.8"
  }
 },
 "nbformat": 4,
 "nbformat_minor": 5
}
